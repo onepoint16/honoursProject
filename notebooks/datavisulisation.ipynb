{
 "cells": [
  {
   "cell_type": "code",
   "execution_count": null,
   "metadata": {},
   "outputs": [],
   "source": [
    "import fiftyone as fo\n",
    "import fiftyone.zoo as foz\n",
    "\n",
    "# The path to the source files that you manually downloaded\n",
    "source_dir = \"/run/media/sam/Dataset/bdd100k_images\"\n",
    "\n",
    "dataset = foz.load_zoo_dataset(\n",
    "    \"bdd100k\",\n",
    "    split=\"validation\",\n",
    "    source_dir=source_dir,\n",
    ")\n",
    "\n",
    "session = fo.launch_app(dataset)"
   ]
  }
 ],
 "metadata": {
  "interpreter": {
   "hash": "1d9c11c63651c7f8ff38accc77aa9ca5f169356596d1cc3c2101868a07643515"
  },
  "kernelspec": {
   "display_name": "Python 3.9.7 64-bit ('hon_vis': conda)",
   "language": "python",
   "name": "python3"
  },
  "language_info": {
   "codemirror_mode": {
    "name": "ipython",
    "version": 3
   },
   "file_extension": ".py",
   "mimetype": "text/x-python",
   "name": "python",
   "nbconvert_exporter": "python",
   "pygments_lexer": "ipython3",
   "version": "3.9.7"
  },
  "orig_nbformat": 4
 },
 "nbformat": 4,
 "nbformat_minor": 2
}
