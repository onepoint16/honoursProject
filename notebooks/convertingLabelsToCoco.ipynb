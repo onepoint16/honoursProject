{
 "cells": [
  {
   "cell_type": "markdown",
   "metadata": {},
   "source": [
    "## Coverting labels from json format to coco"
   ]
  },
  {
   "cell_type": "markdown",
   "metadata": {},
   "source": [
    "Converting detection labels\n",
    "location of labels: /run/media/sam/Dataset/bdd100k-models/data/bdd100k/labels/det_20/ {Train / Val}\n",
    "output to go here: /run/media/sam/Dataset/bdd100k-models/data/bdd100k/jsons\n",
    "Conda env: bdd100k\n",
    "Must be in Bdd100k directory with bdd100k.label.to.coco file\n",
    "\n",
    "Train:\n",
    "\n",
    "python -m bdd100k.label.to_coco -m det \\\n",
    "    -i /run/media/sam/Dataset/bdd100k-models/data/bdd100k/labels/det_20/det_train.json \\\n",
    "    -o /run/media/sam/Dataset/bdd100k-models/data/bdd100k/jsons/det_train_cocofmt.json\n",
    "\n",
    "Val:\n",
    "\n",
    "python -m bdd100k.label.to_coco -m det \\\n",
    "    -i /run/media/sam/Dataset/bdd100k-models/data/bdd100k/labels/det_20/det_val.json \\\n",
    "    -o /run/media/sam/Dataset/bdd100k-models/data/bdd100k/jsons/det_val_cocofmt.json\n"
   ]
  },
  {
   "cell_type": "markdown",
   "metadata": {},
   "source": [
    "Converting box track labels \n",
    "location of labels: /run/media/sam/Dataset/bdd100k-models/data/bdd100k/labels/box_track_20/ {Train / Val}\n",
    "output to go here: /run/media/sam/Dataset/bdd100k-models/data/bdd100k/jsons\n",
    "Conda env: bdd100k\n",
    "Must be in Bdd100k directory with bdd100k.label.to.coco file\n",
    "\n",
    "Train:\n",
    "\n",
    "python -m bdd100k.label.to_coco -m box_track \\\n",
    "    -i /run/media/sam/Dataset/bdd100k-models/data/bdd100k/labels/box_track_20/train \\\n",
    "    -o /run/media/sam/Dataset/bdd100k-models/data/bdd100k/jsons/box_track_train_cocofmt.json\n",
    "\n",
    "Val:\n",
    "\n",
    "python -m bdd100k.label.to_coco -m box_track \\\n",
    "    -i /run/media/sam/Dataset/bdd100k-models/data/bdd100k/labels/box_track_20/val \\\n",
    "    -o /run/media/sam/Dataset/bdd100k-models/data/bdd100k/jsons/box_track_val_cocofmt.json"
   ]
  }
 ],
 "metadata": {
  "interpreter": {
   "hash": "b32ed42ee62353d9a2948afdd7d938635bfdc8a6e5b2a75b892c8632137da800"
  },
  "kernelspec": {
   "display_name": "Python 3.9.0 64-bit ('bdd100k': conda)",
   "language": "python",
   "name": "python3"
  },
  "language_info": {
   "name": "python",
   "version": "3.9.0"
  },
  "orig_nbformat": 4
 },
 "nbformat": 4,
 "nbformat_minor": 2
}
