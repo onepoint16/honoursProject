{
 "cells": [
  {
   "cell_type": "markdown",
   "metadata": {},
   "source": [
    "# BDD100K Understanding the Data\n",
    "## Date 24/1/22\n",
    "\n",
    "Following the set up page from BDD100K: https://doc.bdd100k.com/usage.html\n",
    "\n",
    "Conda env = bdd100k\n",
    "\n",
    "Attempting to connect the 100K image set with object detection labels\n",
    "\n",
    "Scalabel docs: https://doc.scalabel.ai/visual.html"
   ]
  },
  {
   "cell_type": "code",
   "execution_count": 3,
   "metadata": {},
   "outputs": [],
   "source": [
    "from scalabel.vis.label import DisplayConfig, LabelViewer, UIConfig\n"
   ]
  },
  {
   "cell_type": "code",
   "execution_count": 1,
   "metadata": {},
   "outputs": [],
   "source": [
    "IMAGE_DIR = \"/run/media/sam/Dataset/bdd100k-models/data/bdd100k/images/100k\"\n",
    "\n",
    "LABEL_PATH = \"/run/media/sam/Dataset/bdd100k-models/data/bdd100k/labels/det_20\""
   ]
  },
  {
   "cell_type": "markdown",
   "metadata": {},
   "source": [
    "This line will be ran in the terminal throught he activated conda environment bdd100k\n",
    "\n",
    "python3 -m scalabel.vis.controller <args>\n",
    "\n",
    "The arguments provided will be IMAGE_DIR and LABEL_PATH\n",
    "\n",
    "From LabelViewer source code:\n",
    "\n",
    "Visualize 2D, 3D bounding boxes and 2D polygons.\n",
    "\n",
    "    The class provides both high-level APIs and middle-level APIs to visualize\n",
    "    the image and the corresponding Scalabel-format labels.\n",
    "\n",
    "    High-level APIs:\n",
    "        draw(image: np.array, frame: scalabel.label.typing.Frame):\n",
    "            Draw the image with the labels stored in the 'frame'.\n",
    "        show(): display the visualization of the current image.\n",
    "        save(out_path: str): save the visualization of the current image.\n",
    "\n",
    "    Middle-level APIs:\n",
    "        draw_image(image: np.array): plot the current image\n",
    "        draw_attributes(frame: Frame): plot the frame attributes\n",
    "        draw_box2ds(labels: list[Label]): plot 2D bounding boxes\n",
    "        draw_box3ds(labels: list[Label], intrinsics: Intrisics):\n",
    "            plot 3D bounding boxes\n",
    "        draw_poly2ds(labels: list[Label], alpha: float):\n",
    "            plot 2D polygons with the given alpha value\n",
    "        draw_graph(labels: list[Label]): plot graph\n"
   ]
  },
  {
   "cell_type": "code",
   "execution_count": null,
   "metadata": {},
   "outputs": [],
   "source": [
    "viewer = LabelViewer()\n",
    "viewer.draw(IMAGE_DIR, frame=1)\n",
    "viewer.show()"
   ]
  }
 ],
 "metadata": {
  "interpreter": {
   "hash": "b32ed42ee62353d9a2948afdd7d938635bfdc8a6e5b2a75b892c8632137da800"
  },
  "kernelspec": {
   "display_name": "Python 3.9.0 64-bit ('bdd100k': conda)",
   "language": "python",
   "name": "python3"
  },
  "language_info": {
   "codemirror_mode": {
    "name": "ipython",
    "version": 3
   },
   "file_extension": ".py",
   "mimetype": "text/x-python",
   "name": "python",
   "nbconvert_exporter": "python",
   "pygments_lexer": "ipython3",
   "version": "3.9.0"
  },
  "orig_nbformat": 4
 },
 "nbformat": 4,
 "nbformat_minor": 2
}
