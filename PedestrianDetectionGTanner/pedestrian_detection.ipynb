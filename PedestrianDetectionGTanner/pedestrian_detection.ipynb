{
 "cells": [
  {
   "cell_type": "markdown",
   "metadata": {},
   "source": [
    "# Pedestrian detection using MRCNN\n",
    "\n",
    "### Notebook created through referencing Tanner Gilberts Video detection script\n",
    "https://github.com/onepoint16/MaskRCNN-Object-Detection-and-Segmentation/blob/master/video_detection.py"
   ]
  },
  {
   "cell_type": "code",
   "execution_count": null,
   "metadata": {},
   "outputs": [],
   "source": [
    "import os\n",
    "import sys\n",
    "import numpy as np\n",
    "np.random.seed(0)\n",
    "import matplotlib.pyplot as plt\n",
    "import cv2\n",
    "import argparse\n",
    "\n",
    "# Root directory of the project\n",
    "ROOT_DIR = os.path.abspath(\"../\")\n",
    "print(\"Root Directory: \", ROOT_DIR)\n",
    "\n",
    "# Import Mask RCNN\n",
    "sys.path.append(ROOT_DIR)  # To find local version of the library\n",
    "from mrcnn.config import Config\n",
    "from mrcnn import utils\n",
    "import mrcnn.model as modellib\n",
    "from mrcnn import visualize\n",
    "from mrcnn.model import log\n",
    "from samples.coco import coco\n",
    "import video_detection as vd\n"
   ]
  },
  {
   "cell_type": "markdown",
   "metadata": {},
   "source": [
    "\"/home/sam/Desktop/sam_bdd_videos/input/cabc30fc-e7726578.mov\""
   ]
  },
  {
   "cell_type": "code",
   "execution_count": null,
   "metadata": {},
   "outputs": [],
   "source": [
    "# Create directories for input videos and output videos\n",
    "vid_dir = \"/home/sam/Desktop/sam_bdd_videos/input/\"\n",
    "output_dir = \"/home/sam/Desktop/sam_bdd_videos/output/\""
   ]
  },
  {
   "cell_type": "code",
   "execution_count": null,
   "metadata": {},
   "outputs": [],
   "source": [
    "# Create collection for video file names in vid_dir\n",
    "\n",
    "def get_video_list(vid_dir):\n",
    "    files= os.listdir(vid_dir) \n",
    "    s = []\n",
    "    for file in files: \n",
    "        str_name = file[:21]\n",
    "        s.append(str_name) \n",
    "    return s\n",
    "\n",
    "vid_list = get_video_list(vid_dir)"
   ]
  },
  {
   "cell_type": "code",
   "execution_count": null,
   "metadata": {},
   "outputs": [],
   "source": [
    "# Loop through collection of video names\n",
    "    # Run video_detection with videopath and video name\n",
    "    # Optionally save output to output_dir\n",
    "    \n",
    "for vid in vid_list:\n",
    "    video_path = vid_dir + vid\n",
    "    print(video_path)\n",
    "    vd.set_video_file_path(video_path)\n",
    "    # '!' python video_detection.py"
   ]
  }
 ],
 "metadata": {
  "interpreter": {
   "hash": "83d295f93049fc1be612bfc9abba3a88ddb6ba65df8d3091b115ddac7f1abb01"
  },
  "kernelspec": {
   "display_name": "Python 3.10.0 ('MRCNN')",
   "language": "python",
   "name": "python3"
  },
  "language_info": {
   "codemirror_mode": {
    "name": "ipython",
    "version": 3
   },
   "file_extension": ".py",
   "mimetype": "text/x-python",
   "name": "python",
   "nbconvert_exporter": "python",
   "pygments_lexer": "ipython3",
   "version": "3.10.0"
  },
  "orig_nbformat": 4
 },
 "nbformat": 4,
 "nbformat_minor": 2
}
