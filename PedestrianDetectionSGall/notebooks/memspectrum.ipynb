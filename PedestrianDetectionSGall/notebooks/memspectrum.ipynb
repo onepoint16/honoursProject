{
 "cells": [
  {
   "cell_type": "code",
   "execution_count": null,
   "metadata": {},
   "outputs": [],
   "source": [
    "# Import Memspectrum\n",
    "from memspectrum import MESA\n",
    "\n",
    "import numpy as np\n",
    "\n",
    "np.random.seed(0)\n",
    "\n",
    "import matplotlib.pyplot as plt\n",
    "\n",
    "%matplotlib inline "
   ]
  },
  {
   "cell_type": "markdown",
   "metadata": {},
   "source": [
    "#### outputted results\n",
    "\n",
    "{'frame 540': {0: {'pedestrian 0': (767, 1243)}, 1: {'pedestrian 1': (803, 1368)}, 3: {'pedestrian 2': (782, 1452)}}}\n",
    "{'frame 550': {0: {'pedestrian 0': (752, 1217)}, 1: {'pedestrian 1': (776, 1324)}, 2: {'pedestrian 2': (774, 1422)}}}\n",
    "{'frame 560': {0: {'pedestrian 0': (789, 1367)}, 1: {'pedestrian 1': (746, 1188)}, 2: {'pedestrian 2': (767, 1295)}}}\n",
    "{'frame 570': {0: {'pedestrian 0': (759, 1266)}, 1: {'pedestrian 1': (766, 1332)}, 2: {'pedestrian 2': (716, 1148)}}}\n",
    "{'frame 580': {0: {'pedestrian 0': (742, 1235)}, 1: {'pedestrian 1': (717, 1126)}, 2: {'pedestrian 2': (760, 1305)}}}\n",
    "{'frame 590': {0: {'pedestrian 0': (741, 1217)}, 1: {'pedestrian 1': (753, 1271)}, 2: {'pedestrian 2': (711, 1101)}}}\n",
    "{'frame 600': {0: {'pedestrian 0': (736, 1191)}, 1: {'pedestrian 1': (739, 1246)}, 2: {'pedestrian 2': (699, 1078)}}}\n",
    "{'frame 610': {0: {'pedestrian 0': (739, 1228)}, 1: {'pedestrian 1': (722, 1171)}, 2: {'pedestrian 2': (690, 1073)}}}\n",
    "{'frame 620': {0: {'pedestrian 0': (725, 1212)}, 1: {'pedestrian 1': (719, 1154)}, 2: {'pedestrian 2': (689, 1065)}}}\n",
    "{'frame 630': {0: {'pedestrian 0': (714, 1138)}, 1: {'pedestrian 1': (729, 1186)}, 2: {'pedestrian 2': (689, 1058)}}}"
   ]
  },
  {
   "cell_type": "code",
   "execution_count": null,
   "metadata": {},
   "outputs": [],
   "source": [
    "# Making dataset from the 3 pedestrians movments \n",
    "\n",
    "# Pedestrian 0\n",
    "person_0_X = [767, 752, 746, 716, 717, 711]\n",
    "\n",
    "person_0_Y = [1243, 1217, 1188, 1148, 1126, 1101]\n",
    "\n",
    "# Pedestrian 1\n",
    "person_1_X = [803, 776, 767, 759, 742, 741]\n",
    "\n",
    "person_1_Y = [1368, 1324, 1295, 1266, 1235, 1217]\n",
    "\n",
    "# Pedestrian 2\n",
    "person_2_X = [782, 774, 789, 766, 760, 753]\n",
    "\n",
    "person_2_Y = [1452, 1422, 1367, 1332, 1305, 1271]"
   ]
  },
  {
   "cell_type": "code",
   "execution_count": null,
   "metadata": {},
   "outputs": [],
   "source": [
    "# Instantiate an Instance of MESA\n",
    "m = MESA()\n",
    "\n",
    "# Run Memspectrum on Person 0 X and Y\n",
    "m.solve(person_0_X)\n",
    "\n",
    "forecast = m.forecast(person_0_X, length = 1, number_of_simulations = 10, include_data = False)\n",
    "\n",
    "print(forecast)"
   ]
  }
 ],
 "metadata": {
  "interpreter": {
   "hash": "1296a526a0e7fc01736378b57967e4c26a0496fffd133aae633ad171abf6ac77"
  },
  "kernelspec": {
   "display_name": "Python 3.9.11 ('memspectrum')",
   "language": "python",
   "name": "python3"
  },
  "language_info": {
   "name": "python",
   "version": "3.9.11"
  },
  "orig_nbformat": 4
 },
 "nbformat": 4,
 "nbformat_minor": 2
}
