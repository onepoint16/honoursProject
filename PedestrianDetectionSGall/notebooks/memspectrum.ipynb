{
 "cells": [
  {
   "cell_type": "code",
   "execution_count": 1,
   "metadata": {},
   "outputs": [],
   "source": [
    "# Import Memspectrum\n",
    "from memspectrum import MESA\n",
    "\n",
    "import numpy as np\n",
    "\n",
    "np.random.seed(0)\n",
    "\n",
    "import matplotlib.pyplot as plt\n",
    "\n",
    "%matplotlib inline "
   ]
  },
  {
   "cell_type": "code",
   "execution_count": 2,
   "metadata": {},
   "outputs": [],
   "source": [
    "# Making dataset from the 3 pedestrians movments \n",
    "\n",
    "# Pedestrian 0\n",
    "person_0_X = [767, 752, 746, 716, 717, 711]\n",
    "\n",
    "person_0_Y = [1243, 1217, 1188, 1148, 1126, 1101]\n",
    "\n",
    "# Pedestrian 1\n",
    "person_1_X = [803, 776, 767, 759, 742, 741]\n",
    "\n",
    "person_1_Y = [1368, 1324, 1295, 1266, 1235, 1217]\n",
    "\n",
    "# Pedestrian 2\n",
    "person_2_X = [782, 774, 789, 766, 760, 753]\n",
    "\n",
    "person_2_Y = [1452, 1422, 1367, 1332, 1305, 1271]"
   ]
  },
  {
   "cell_type": "code",
   "execution_count": 3,
   "metadata": {},
   "outputs": [
    {
     "ename": "ValueError",
     "evalue": "could not broadcast input array from shape (6,) into shape (10,0)",
     "output_type": "error",
     "traceback": [
      "\u001b[1;31m---------------------------------------------------------------------------\u001b[0m",
      "\u001b[1;31mValueError\u001b[0m                                Traceback (most recent call last)",
      "\u001b[1;32mc:\\Users\\every\\code\\honoursProject\\PedestrianDetectionSGall\\notebooks\\memspectrum.ipynb Cell 3'\u001b[0m in \u001b[0;36m<cell line: 7>\u001b[1;34m()\u001b[0m\n\u001b[0;32m      <a href='vscode-notebook-cell:/c%3A/Users/every/code/honoursProject/PedestrianDetectionSGall/notebooks/memspectrum.ipynb#ch0000002?line=3'>4</a>\u001b[0m \u001b[39m# Run Memspectrum on Person 0 X and Y\u001b[39;00m\n\u001b[0;32m      <a href='vscode-notebook-cell:/c%3A/Users/every/code/honoursProject/PedestrianDetectionSGall/notebooks/memspectrum.ipynb#ch0000002?line=4'>5</a>\u001b[0m m\u001b[39m.\u001b[39msolve(person_0_X)\n\u001b[1;32m----> <a href='vscode-notebook-cell:/c%3A/Users/every/code/honoursProject/PedestrianDetectionSGall/notebooks/memspectrum.ipynb#ch0000002?line=6'>7</a>\u001b[0m forecast \u001b[39m=\u001b[39m m\u001b[39m.\u001b[39;49mforecast(person_0_X, length \u001b[39m=\u001b[39;49m \u001b[39m1\u001b[39;49m, number_of_simulations \u001b[39m=\u001b[39;49m \u001b[39m10\u001b[39;49m, include_data \u001b[39m=\u001b[39;49m \u001b[39mFalse\u001b[39;49;00m)\n\u001b[0;32m      <a href='vscode-notebook-cell:/c%3A/Users/every/code/honoursProject/PedestrianDetectionSGall/notebooks/memspectrum.ipynb#ch0000002?line=8'>9</a>\u001b[0m \u001b[39mprint\u001b[39m(forecast)\n",
      "File \u001b[1;32m~\\anaconda3\\envs\\memspectrum\\lib\\site-packages\\memspectrum\\memspectrum.py:841\u001b[0m, in \u001b[0;36mMESA.forecast\u001b[1;34m(self, data, length, number_of_simulations, P, include_data, seed, verbose)\u001b[0m\n\u001b[0;32m    <a href='file:///c%3A/Users/every/anaconda3/envs/memspectrum/lib/site-packages/memspectrum/memspectrum.py?line=838'>839</a>\u001b[0m \u001b[39massert\u001b[39;00m data\u001b[39m.\u001b[39mndim \u001b[39m==\u001b[39m \u001b[39m1\u001b[39m, \u001b[39mValueError\u001b[39;00m(\u001b[39m\"\u001b[39m\u001b[39mWrong number of dimension for data: 1 dim expcted but got \u001b[39m\u001b[39m{}\u001b[39;00m\u001b[39m dims\u001b[39m\u001b[39m\"\u001b[39m\u001b[39m.\u001b[39mformat(data\u001b[39m.\u001b[39mndim))\n\u001b[0;32m    <a href='file:///c%3A/Users/every/anaconda3/envs/memspectrum/lib/site-packages/memspectrum/memspectrum.py?line=839'>840</a>\u001b[0m \u001b[39mif\u001b[39;00m \u001b[39mlen\u001b[39m(data) \u001b[39m>\u001b[39m\u001b[39m=\u001b[39m p:\n\u001b[1;32m--> <a href='file:///c%3A/Users/every/anaconda3/envs/memspectrum/lib/site-packages/memspectrum/memspectrum.py?line=840'>841</a>\u001b[0m     predictions[:,:p] \u001b[39m=\u001b[39m data[\u001b[39m-\u001b[39mp:]\n\u001b[0;32m    <a href='file:///c%3A/Users/every/anaconda3/envs/memspectrum/lib/site-packages/memspectrum/memspectrum.py?line=841'>842</a>\u001b[0m \u001b[39melse\u001b[39;00m:\n\u001b[0;32m    <a href='file:///c%3A/Users/every/anaconda3/envs/memspectrum/lib/site-packages/memspectrum/memspectrum.py?line=842'>843</a>\u001b[0m     \u001b[39mraise\u001b[39;00m \u001b[39mValueError\u001b[39;00m(\u001b[39m\"\u001b[39m\u001b[39mData are not long enough for forecasting\u001b[39m\u001b[39m\"\u001b[39m)\n",
      "\u001b[1;31mValueError\u001b[0m: could not broadcast input array from shape (6,) into shape (10,0)"
     ]
    }
   ],
   "source": [
    "# Instantiate an Instance of MESA\n",
    "m = MESA()\n",
    "\n",
    "# Run Memspectrum on Person 0 X and Y\n",
    "m.solve(person_0_X)\n",
    "\n",
    "forecast = m.forecast(person_0_X, length = 1, number_of_simulations = 10, include_data = False)\n",
    "\n",
    "print(forecast)"
   ]
  },
  {
   "cell_type": "code",
   "execution_count": 40,
   "metadata": {},
   "outputs": [
    {
     "data": {
      "image/png": "[encoded data removed]",
      "text/plain": [
       "<Figure size 432x288 with 1 Axes>"
      ]
     },
     "metadata": {
      "needs_background": "light"
     },
     "output_type": "display_data"
    }
   ],
   "source": [
    "N, dt = 6, 1  # Number of samples and sampling interval\n",
    "no_pred = 2\n",
    "time = np.arange(0, N) * dt\n",
    "data = [24, 27, 31, 36, 42, 49, 57, 66, 76, 87]\n",
    "plt.plot(time[:-1], person_0_X[:-1], color = 'k')\n",
    "plt.show()"
   ]
  },
  {
   "cell_type": "code",
   "execution_count": 41,
   "metadata": {},
   "outputs": [
    {
     "ename": "IndexError",
     "evalue": "index 4 is out of bounds for axis 0 with size 4",
     "output_type": "error",
     "traceback": [
      "\u001b[1;31m---------------------------------------------------------------------------\u001b[0m",
      "\u001b[1;31mIndexError\u001b[0m                                Traceback (most recent call last)",
      "\u001b[1;32mc:\\Users\\every\\code\\honoursProject\\PedestrianDetectionSGall\\notebooks\\memspectrum.ipynb Cell 5'\u001b[0m in \u001b[0;36m<cell line: 2>\u001b[1;34m()\u001b[0m\n\u001b[0;32m      <a href='vscode-notebook-cell:/c%3A/Users/every/code/honoursProject/PedestrianDetectionSGall/notebooks/memspectrum.ipynb#ch0000004?line=0'>1</a>\u001b[0m M \u001b[39m=\u001b[39m MESA()\n\u001b[1;32m----> <a href='vscode-notebook-cell:/c%3A/Users/every/code/honoursProject/PedestrianDetectionSGall/notebooks/memspectrum.ipynb#ch0000004?line=1'>2</a>\u001b[0m M\u001b[39m.\u001b[39;49msolve(person_0_X[:\u001b[39m-\u001b[39;49mno_pred])\n\u001b[0;32m      <a href='vscode-notebook-cell:/c%3A/Users/every/code/honoursProject/PedestrianDetectionSGall/notebooks/memspectrum.ipynb#ch0000004?line=2'>3</a>\u001b[0m forecast \u001b[39m=\u001b[39m M\u001b[39m.\u001b[39mforecast(person_0_X[:\u001b[39m-\u001b[39mno_pred], length \u001b[39m=\u001b[39m no_pred, number_of_simulations \u001b[39m=\u001b[39m no_pred\u001b[39m*\u001b[39m\u001b[39m100\u001b[39m, \n\u001b[0;32m      <a href='vscode-notebook-cell:/c%3A/Users/every/code/honoursProject/PedestrianDetectionSGall/notebooks/memspectrum.ipynb#ch0000004?line=3'>4</a>\u001b[0m include_data \u001b[39m=\u001b[39m \u001b[39mFalse\u001b[39;00m)\n\u001b[0;32m      <a href='vscode-notebook-cell:/c%3A/Users/every/code/honoursProject/PedestrianDetectionSGall/notebooks/memspectrum.ipynb#ch0000004?line=4'>5</a>\u001b[0m median \u001b[39m=\u001b[39m np\u001b[39m.\u001b[39mmedian(forecast, axis \u001b[39m=\u001b[39m \u001b[39m0\u001b[39m)\n",
      "File \u001b[1;32m~\\anaconda3\\envs\\memspectrum\\lib\\site-packages\\memspectrum\\memspectrum.py:555\u001b[0m, in \u001b[0;36mMESA.solve\u001b[1;34m(self, data, m, optimisation_method, method, regularisation, early_stop, verbose)\u001b[0m\n\u001b[0;32m    <a href='file:///c%3A/Users/every/anaconda3/envs/memspectrum/lib/site-packages/memspectrum/memspectrum.py?line=551'>552</a>\u001b[0m     exit(\u001b[39m-\u001b[39m\u001b[39m1\u001b[39m)\n\u001b[0;32m    <a href='file:///c%3A/Users/every/anaconda3/envs/memspectrum/lib/site-packages/memspectrum/memspectrum.py?line=553'>554</a>\u001b[0m \u001b[39mself\u001b[39m\u001b[39m.\u001b[39m_loss_function \u001b[39m=\u001b[39m loss_function(optimisation_method)\n\u001b[1;32m--> <a href='file:///c%3A/Users/every/anaconda3/envs/memspectrum/lib/site-packages/memspectrum/memspectrum.py?line=554'>555</a>\u001b[0m \u001b[39mself\u001b[39m\u001b[39m.\u001b[39mP, \u001b[39mself\u001b[39m\u001b[39m.\u001b[39ma_k, \u001b[39mself\u001b[39m\u001b[39m.\u001b[39moptimization \u001b[39m=\u001b[39m \u001b[39mself\u001b[39;49m\u001b[39m.\u001b[39;49m_method()\n\u001b[0;32m    <a href='file:///c%3A/Users/every/anaconda3/envs/memspectrum/lib/site-packages/memspectrum/memspectrum.py?line=555'>556</a>\u001b[0m \u001b[39mdel\u001b[39;00m \u001b[39mself\u001b[39m\u001b[39m.\u001b[39mdata\n\u001b[0;32m    <a href='file:///c%3A/Users/every/anaconda3/envs/memspectrum/lib/site-packages/memspectrum/memspectrum.py?line=556'>557</a>\u001b[0m \u001b[39mreturn\u001b[39;00m \u001b[39mself\u001b[39m\u001b[39m.\u001b[39mP, \u001b[39mself\u001b[39m\u001b[39m.\u001b[39ma_k, \u001b[39mself\u001b[39m\u001b[39m.\u001b[39moptimization\n",
      "File \u001b[1;32m~\\anaconda3\\envs\\memspectrum\\lib\\site-packages\\memspectrum\\memspectrum.py:600\u001b[0m, in \u001b[0;36mMESA._FastBurg\u001b[1;34m(self)\u001b[0m\n\u001b[0;32m    <a href='file:///c%3A/Users/every/anaconda3/envs/memspectrum/lib/site-packages/memspectrum/memspectrum.py?line=597'>598</a>\u001b[0m k, new_a \u001b[39m=\u001b[39m \u001b[39mself\u001b[39m\u001b[39m.\u001b[39m_updateCoefficients(a[\u001b[39m-\u001b[39m\u001b[39m1\u001b[39m], g)\n\u001b[0;32m    <a href='file:///c%3A/Users/every/anaconda3/envs/memspectrum/lib/site-packages/memspectrum/memspectrum.py?line=598'>599</a>\u001b[0m \u001b[39m#Update variables. Check paper for indices at j-th loop.\u001b[39;00m\n\u001b[1;32m--> <a href='file:///c%3A/Users/every/anaconda3/envs/memspectrum/lib/site-packages/memspectrum/memspectrum.py?line=599'>600</a>\u001b[0m r \u001b[39m=\u001b[39m \u001b[39mself\u001b[39m\u001b[39m.\u001b[39m_updateR(i, r, c[i \u001b[39m+\u001b[39;49m \u001b[39m2\u001b[39;49m])\n\u001b[0;32m    <a href='file:///c%3A/Users/every/anaconda3/envs/memspectrum/lib/site-packages/memspectrum/memspectrum.py?line=600'>601</a>\u001b[0m \u001b[39m#Construct the array in two different, equivalent ways.\u001b[39;00m\n\u001b[0;32m    <a href='file:///c%3A/Users/every/anaconda3/envs/memspectrum/lib/site-packages/memspectrum/memspectrum.py?line=601'>602</a>\u001b[0m DrA \u001b[39m=\u001b[39m \u001b[39mself\u001b[39m\u001b[39m.\u001b[39m_constructDr2(i, new_a)\n",
      "\u001b[1;31mIndexError\u001b[0m: index 4 is out of bounds for axis 0 with size 4"
     ]
    }
   ],
   "source": [
    "M = MESA()\n",
    "M.solve(person_0_X[:-no_pred])\n",
    "forecast = M.forecast(person_0_X[:-no_pred], length = no_pred, number_of_simulations = no_pred*100, \n",
    "include_data = False)\n",
    "median = np.median(forecast, axis = 0) # Ensemble median"
   ]
  },
  {
   "cell_type": "code",
   "execution_count": 21,
   "metadata": {},
   "outputs": [
    {
     "data": {
      "image/png": "[encoded data removed]",
      "text/plain": [
       "<Figure size 432x288 with 1 Axes>"
      ]
     },
     "metadata": {
      "needs_background": "light"
     },
     "output_type": "display_data"
    }
   ],
   "source": [
    "plt.plot(time, data, color = 'k')\n",
    "plt.plot(time[N-no_pred:], data[N-no_pred:], color = 'g', linestyle = '-.', label = 'Observed data')\n",
    "plt.plot(time[N-no_pred:], median, color = 'r', label = 'median estimate')\n",
    "plt.show()"
   ]
  },
  {
   "cell_type": "code",
   "execution_count": 22,
   "metadata": {},
   "outputs": [
    {
     "name": "stdout",
     "output_type": "stream",
     "text": [
      "Real Values =  [76, 87]\n",
      "Median Values =  [75.51168173 84.6201481 ]\n",
      "SSE =  5.902149787646119\n"
     ]
    }
   ],
   "source": [
    "# Sum Squared Error just as a quick evaluation\n",
    "real_values = data[N-no_pred:]\n",
    "print(\"Real Values = \", real_values)\n",
    "print(\"Median Values = \", median)\n",
    "SSE = np.sum((real_values - median)**2)\n",
    "print(\"SSE = \", SSE)"
   ]
  }
 ],
 "metadata": {
  "interpreter": {
   "hash": "1296a526a0e7fc01736378b57967e4c26a0496fffd133aae633ad171abf6ac77"
  },
  "kernelspec": {
   "display_name": "Python 3.9.11 ('memspectrum')",
   "language": "python",
   "name": "python3"
  },
  "language_info": {
   "codemirror_mode": {
    "name": "ipython",
    "version": 3
   },
   "file_extension": ".py",
   "mimetype": "text/x-python",
   "name": "python",
   "nbconvert_exporter": "python",
   "pygments_lexer": "ipython3",
   "version": "3.9.7"
  },
  "orig_nbformat": 4
 },
 "nbformat": 4,
 "nbformat_minor": 2
}
