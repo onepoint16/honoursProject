{
 "cells": [
  {
   "cell_type": "code",
   "execution_count": 1,
   "metadata": {},
   "outputs": [],
   "source": [
    "# Import Memspectrum\n",
    "from memspectrum import MESA\n",
    "\n",
    "import numpy as np\n",
    "\n",
    "np.random.seed(0)\n",
    "\n",
    "import matplotlib.pyplot as plt\n",
    "\n",
    "%matplotlib inline "
   ]
  },
  {
   "cell_type": "markdown",
   "metadata": {},
   "source": [
    "#### outputted results\n",
    "\n",
    "Pedestrians in the outputted frames are in the same order in each picture but the identification will identify them in a different order\n",
    "\n",
    "person original order is 0 1 2 I will put the correct order under each output:\n",
    "\n",
    "\n",
    "{'frame 540': {0: {'pedestrian 0': (767, 1243)}, 1: {'pedestrian 1': (803, 1368)}, 3: {'pedestrian 2': (782, 1452)}}}\n",
    "\n",
    "0 1 2\n",
    "\n",
    "{'frame 550': {0: {'pedestrian 0': (752, 1217)}, 1: {'pedestrian 1': (776, 1324)}, 2: {'pedestrian 2': (774, 1422)}}}\n",
    "\n",
    "0 1 2\n",
    "\n",
    "{'frame 560': {0: {'pedestrian 0': (789, 1367)}, 1: {'pedestrian 1': (746, 1188)}, 2: {'pedestrian 2': (767, 1295)}}}\n",
    "\n",
    "1 2 0\n",
    "\n",
    "{'frame 570': {0: {'pedestrian 0': (759, 1266)}, 1: {'pedestrian 1': (766, 1332)}, 2: {'pedestrian 2': (716, 1148)}}}\n",
    "\n",
    "2 0 1\n",
    "\n",
    "{'frame 580': {0: {'pedestrian 0': (742, 1235)}, 1: {'pedestrian 1': (717, 1126)}, 2: {'pedestrian 2': (760, 1305)}}}\n",
    "\n",
    "1 0 2\n",
    "\n",
    "{'frame 590': {0: {'pedestrian 0': (741, 1217)}, 1: {'pedestrian 1': (753, 1271)}, 2: {'pedestrian 2': (711, 1101)}}}\n",
    "\n",
    "2 0 1\n",
    "\n",
    "{'frame 600': {0: {'pedestrian 0': (736, 1191)}, 1: {'pedestrian 1': (739, 1246)}, 2: {'pedestrian 2': (699, 1078)}}}\n",
    "\n",
    "2 0 1\n",
    "\n",
    "{'frame 610': {0: {'pedestrian 0': (739, 1228)}, 1: {'pedestrian 1': (722, 1171)}, 2: {'pedestrian 2': (690, 1073)}}}\n",
    "\n",
    "2 1 0\n",
    "\n",
    "{'frame 620': {0: {'pedestrian 0': (725, 1212)}, 1: {'pedestrian 1': (719, 1154)}, 2: {'pedestrian 2': (689, 1065)}}}\n",
    "\n",
    "2 1 0\n",
    "\n",
    "{'frame 630': {0: {'pedestrian 0': (714, 1138)}, 1: {'pedestrian 1': (729, 1186)}, 2: {'pedestrian 2': (689, 1058)}}}\n",
    "\n",
    "2 0 1"
   ]
  },
  {
   "cell_type": "code",
   "execution_count": 2,
   "metadata": {},
   "outputs": [],
   "source": [
    "# Making dataset from the 3 pedestrians movments \n",
    "\n",
    "# Pedestrian 0\n",
    "person_0_X = [767, 752, 746, 716, 717, 711, 699, 690, 689, 689]\n",
    "\n",
    "person_0_Y = [1243, 1217, 1188, 1148, 1126, 1101, 1078, 1073, 1065, 1058]\n",
    "\n",
    "# Pedestrian 1\n",
    "person_1_X = [803, 776, 767, 759, 742, 741, 736, 722, 719, 714]\n",
    "\n",
    "person_1_Y = [1368, 1324, 1295, 1266, 1235, 1217, 1191, 1171, 1154, 1138]\n",
    "\n",
    "# Pedestrian 2\n",
    "person_2_X = [782, 774, 789, 766, 760, 753, 739, 739, 725, 729]\n",
    "\n",
    "person_2_Y = [1452, 1422, 1367, 1332, 1305, 1271, 1246, 1228, 1212, 1186]"
   ]
  },
  {
   "cell_type": "code",
   "execution_count": 49,
   "metadata": {},
   "outputs": [
    {
     "data": {
      "image/png": "[encoded data removed]",
      "text/plain": [
       "<Figure size 432x288 with 1 Axes>"
      ]
     },
     "metadata": {
      "needs_background": "light"
     },
     "output_type": "display_data"
    },
    {
     "data": {
      "image/png": "[encoded data removed]",
      "text/plain": [
       "<Figure size 432x288 with 1 Axes>"
      ]
     },
     "metadata": {
      "needs_background": "light"
     },
     "output_type": "display_data"
    }
   ],
   "source": [
    "N, dt = 10, 10  # Number of samples and sampling interval\n",
    "no_pred = 2\n",
    "time = np.arange(0, N) * dt\n",
    "\n",
    "plt.plot(time[:-1], person_0_X[:-1], color = 'k')\n",
    "plt.show()\n",
    "\n",
    "plt.plot(time[:-1], person_0_Y[:-1], color = 'k')\n",
    "plt.show()"
   ]
  },
  {
   "cell_type": "code",
   "execution_count": 53,
   "metadata": {},
   "outputs": [
    {
     "name": "stdout",
     "output_type": "stream",
     "text": [
      "(525909.5, array([1]), array([339.35609135, 400.61225169, 393.00659391, 439.44976538,\n",
      "       627.58039828]))\n",
      "525909.5\n",
      "[1]\n",
      "[339.35609135 400.61225169 393.00659391 439.44976538 627.58039828]\n",
      "[767, 752, 746, 716, 717, 711, 699, 690]\n",
      "[[767]\n",
      " [752]\n",
      " [746]\n",
      " [716]\n",
      " [717]\n",
      " [711]\n",
      " [699]\n",
      " [690]]\n",
      "(8, 1)\n",
      "[[767 752 746 716]\n",
      " [717 711 699 690]]\n",
      "(2, 4)\n"
     ]
    }
   ],
   "source": [
    "M = MESA()\n",
    "ooft = M.solve(person_0_X[:-no_pred])\n",
    "print(ooft)\n",
    "\n",
    "for o in ooft:\n",
    "    print(o)\n",
    "\n",
    "print(person_0_X[:-no_pred])\n",
    "\n",
    "a = person_0_X[:-no_pred]\n",
    "\n",
    "b = np.expand_dims(a, axis=1)\n",
    "\n",
    "c = np.reshape(a, (2,4))\n",
    "\n",
    "d = np.array(a)\n",
    "\n",
    "print(b)\n",
    "\n",
    "print(b.shape)\n",
    "\n",
    "print(c)\n",
    "\n",
    "print(c.shape)\n",
    "\n"
   ]
  },
  {
   "cell_type": "code",
   "execution_count": 54,
   "metadata": {},
   "outputs": [
    {
     "ename": "AssertionError",
     "evalue": "Wrong number of dimension for data: 1 dim expcted but got 2 dims",
     "output_type": "error",
     "traceback": [
      "\u001b[0;31m---------------------------------------------------------------------------\u001b[0m",
      "\u001b[0;31mAssertionError\u001b[0m                            Traceback (most recent call last)",
      "\u001b[0;32m/var/folders/v9/wbd2v3k97txgb4qp7z43g6wm0000gn/T/ipykernel_76483/3471465051.py\u001b[0m in \u001b[0;36m<module>\u001b[0;34m\u001b[0m\n\u001b[0;32m----> 1\u001b[0;31m \u001b[0mforecast\u001b[0m \u001b[0;34m=\u001b[0m \u001b[0mM\u001b[0m\u001b[0;34m.\u001b[0m\u001b[0mforecast\u001b[0m\u001b[0;34m(\u001b[0m\u001b[0mc\u001b[0m\u001b[0;34m,\u001b[0m \u001b[0mlength\u001b[0m \u001b[0;34m=\u001b[0m \u001b[0mno_pred\u001b[0m\u001b[0;34m,\u001b[0m \u001b[0mnumber_of_simulations\u001b[0m \u001b[0;34m=\u001b[0m \u001b[0mno_pred\u001b[0m\u001b[0;34m*\u001b[0m\u001b[0;36m1\u001b[0m\u001b[0;34m,\u001b[0m \u001b[0minclude_data\u001b[0m \u001b[0;34m=\u001b[0m \u001b[0;32mFalse\u001b[0m\u001b[0;34m)\u001b[0m\u001b[0;34m\u001b[0m\u001b[0;34m\u001b[0m\u001b[0m\n\u001b[0m\u001b[1;32m      2\u001b[0m \u001b[0mmedian\u001b[0m \u001b[0;34m=\u001b[0m \u001b[0mnp\u001b[0m\u001b[0;34m.\u001b[0m\u001b[0mmedian\u001b[0m\u001b[0;34m(\u001b[0m\u001b[0mforecast\u001b[0m\u001b[0;34m,\u001b[0m \u001b[0maxis\u001b[0m \u001b[0;34m=\u001b[0m \u001b[0;36m0\u001b[0m\u001b[0;34m)\u001b[0m \u001b[0;31m# Ensemble median\u001b[0m\u001b[0;34m\u001b[0m\u001b[0;34m\u001b[0m\u001b[0m\n",
      "\u001b[0;32m~/opt/anaconda3/envs/bigdata/lib/python3.9/site-packages/memspectrum/memspectrum.py\u001b[0m in \u001b[0;36mforecast\u001b[0;34m(self, data, length, number_of_simulations, P, include_data, seed, verbose)\u001b[0m\n\u001b[1;32m    837\u001b[0m \u001b[0;34m\u001b[0m\u001b[0m\n\u001b[1;32m    838\u001b[0m         \u001b[0;32mif\u001b[0m \u001b[0misinstance\u001b[0m\u001b[0;34m(\u001b[0m\u001b[0mdata\u001b[0m\u001b[0;34m.\u001b[0m\u001b[0mflatten\u001b[0m\u001b[0;34m(\u001b[0m\u001b[0;34m)\u001b[0m\u001b[0;34m[\u001b[0m\u001b[0;36m0\u001b[0m\u001b[0;34m]\u001b[0m\u001b[0;34m,\u001b[0m\u001b[0mnp\u001b[0m\u001b[0;34m.\u001b[0m\u001b[0mnumber\u001b[0m\u001b[0;34m)\u001b[0m\u001b[0;34m:\u001b[0m\u001b[0;34m\u001b[0m\u001b[0;34m\u001b[0m\u001b[0m\n\u001b[0;32m--> 839\u001b[0;31m             \u001b[0;32massert\u001b[0m \u001b[0mdata\u001b[0m\u001b[0;34m.\u001b[0m\u001b[0mndim\u001b[0m \u001b[0;34m==\u001b[0m \u001b[0;36m1\u001b[0m\u001b[0;34m,\u001b[0m \u001b[0mValueError\u001b[0m\u001b[0;34m(\u001b[0m\u001b[0;34m\"Wrong number of dimension for data: 1 dim expcted but got {} dims\"\u001b[0m\u001b[0;34m.\u001b[0m\u001b[0mformat\u001b[0m\u001b[0;34m(\u001b[0m\u001b[0mdata\u001b[0m\u001b[0;34m.\u001b[0m\u001b[0mndim\u001b[0m\u001b[0;34m)\u001b[0m\u001b[0;34m)\u001b[0m\u001b[0;34m\u001b[0m\u001b[0;34m\u001b[0m\u001b[0m\n\u001b[0m\u001b[1;32m    840\u001b[0m             \u001b[0;32mif\u001b[0m \u001b[0mlen\u001b[0m\u001b[0;34m(\u001b[0m\u001b[0mdata\u001b[0m\u001b[0;34m)\u001b[0m \u001b[0;34m>=\u001b[0m \u001b[0mp\u001b[0m\u001b[0;34m:\u001b[0m\u001b[0;34m\u001b[0m\u001b[0;34m\u001b[0m\u001b[0m\n\u001b[1;32m    841\u001b[0m                 \u001b[0mpredictions\u001b[0m\u001b[0;34m[\u001b[0m\u001b[0;34m:\u001b[0m\u001b[0;34m,\u001b[0m\u001b[0;34m:\u001b[0m\u001b[0mp\u001b[0m\u001b[0;34m]\u001b[0m \u001b[0;34m=\u001b[0m \u001b[0mdata\u001b[0m\u001b[0;34m[\u001b[0m\u001b[0;34m-\u001b[0m\u001b[0mp\u001b[0m\u001b[0;34m:\u001b[0m\u001b[0;34m]\u001b[0m\u001b[0;34m\u001b[0m\u001b[0;34m\u001b[0m\u001b[0m\n",
      "\u001b[0;31mAssertionError\u001b[0m: Wrong number of dimension for data: 1 dim expcted but got 2 dims"
     ]
    }
   ],
   "source": [
    "forecast = M.forecast(c, length = no_pred, number_of_simulations = no_pred*1, include_data = False)\n",
    "median = np.median(forecast, axis = 0) # Ensemble median"
   ]
  },
  {
   "cell_type": "markdown",
   "metadata": {},
   "source": [
    "Example Memspectrum to work with "
   ]
  },
  {
   "cell_type": "code",
   "execution_count": 3,
   "metadata": {},
   "outputs": [
    {
     "data": {
      "image/png": "[encoded data removed]",
      "text/plain": [
       "<Figure size 432x288 with 1 Axes>"
      ]
     },
     "metadata": {
      "needs_background": "light"
     },
     "output_type": "display_data"
    }
   ],
   "source": [
    "N, dt = 10, 1  # Number of samples and sampling interval\n",
    "no_pred = 2\n",
    "time = np.arange(0, N) * dt\n",
    "data = [24, 27, 31, 36, 42, 49, 57, 66, 76, 87]\n",
    "plt.plot(time[:-1], data[:-1], color = 'k')\n",
    "plt.show()"
   ]
  },
  {
   "cell_type": "code",
   "execution_count": 4,
   "metadata": {},
   "outputs": [],
   "source": [
    "M = MESA()\n",
    "M.solve(data[:-no_pred])\n",
    "forecast = M.forecast(data[:-no_pred], length = no_pred, number_of_simulations = no_pred*10, \n",
    "include_data = False)\n",
    "median = np.median(forecast, axis = 0) # Ensemble median"
   ]
  },
  {
   "cell_type": "code",
   "execution_count": 5,
   "metadata": {},
   "outputs": [
    {
     "data": {
      "image/png": "[encoded data removed]",
      "text/plain": [
       "<Figure size 432x288 with 1 Axes>"
      ]
     },
     "metadata": {
      "needs_background": "light"
     },
     "output_type": "display_data"
    }
   ],
   "source": [
    "plt.plot(time, data, color = 'k')\n",
    "plt.plot(time[N-no_pred:], data[N-no_pred:], color = 'g', linestyle = '-.', label = 'Observed data')\n",
    "plt.plot(time[N-no_pred:], median, color = 'r', label = 'median estimate')\n",
    "plt.show()"
   ]
  },
  {
   "cell_type": "code",
   "execution_count": null,
   "metadata": {},
   "outputs": [],
   "source": [
    "# Sum Squared Error just as a quick evaluation\n",
    "real_values = data[N-no_pred:]\n",
    "print(\"Real Values = \", real_values)\n",
    "print(\"Median Values = \", median)\n",
    "SSE = np.sum((real_values - median)**2)\n",
    "print(\"SSE = \", SSE)"
   ]
  }
 ],
 "metadata": {
  "interpreter": {
   "hash": "1296a526a0e7fc01736378b57967e4c26a0496fffd133aae633ad171abf6ac77"
  },
  "kernelspec": {
   "display_name": "Python 3.9.11 ('memspectrum')",
   "language": "python",
   "name": "python3"
  },
  "language_info": {
   "codemirror_mode": {
    "name": "ipython",
    "version": 3
   },
   "file_extension": ".py",
   "mimetype": "text/x-python",
   "name": "python",
   "nbconvert_exporter": "python",
   "pygments_lexer": "ipython3",
   "version": "3.9.7"
  },
  "orig_nbformat": 4
 },
 "nbformat": 4,
 "nbformat_minor": 2
}
