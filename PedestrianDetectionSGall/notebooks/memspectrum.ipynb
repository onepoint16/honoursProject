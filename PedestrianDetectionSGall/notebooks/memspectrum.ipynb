{
 "cells": [
  {
   "cell_type": "code",
   "execution_count": null,
   "metadata": {},
   "outputs": [],
   "source": [
    "# Import Memspectrum\n",
    "from memspectrum import MESA\n",
    "\n",
    "import numpy as np\n",
    "\n",
    "np.random.seed(0)\n",
    "\n",
    "import matplotlib.pyplot as plt\n",
    "\n",
    "%matplotlib inline "
   ]
  },
  {
   "cell_type": "code",
   "execution_count": null,
   "metadata": {},
   "outputs": [],
   "source": [
    "# Making dataset from the 3 pedestrians movments \n",
    "\n",
    "# Pedestrian 0\n",
    "person_0_X = [767, 752, 746, 716, 717, 711]\n",
    "\n",
    "person_0_Y = [1243, 1217, 1188, 1148, 1126, 1101]\n",
    "\n",
    "# Pedestrian 1\n",
    "person_1_X = [803, 776, 767, 759, 742, 741]\n",
    "\n",
    "person_1_Y = [1368, 1324, 1295, 1266, 1235, 1217]\n",
    "\n",
    "# Pedestrian 2\n",
    "person_2_X = [782, 774, 789, 766, 760, 753]\n",
    "\n",
    "person_2_Y = [1452, 1422, 1367, 1332, 1305, 1271]"
   ]
  },
  {
   "cell_type": "code",
   "execution_count": null,
   "metadata": {},
   "outputs": [],
   "source": [
    "# Instantiate an Instance of MESA\n",
    "m = MESA()\n",
    "\n",
    "# Run Memspectrum on Person 0 X and Y\n",
    "m.solve(person_0_X)\n",
    "\n",
    "forecast = m.forecast(person_0_X, length = 1, number_of_simulations = 10, include_data = False)\n",
    "\n",
    "print(forecast)"
   ]
  }
 ],
 "metadata": {
  "interpreter": {
   "hash": "1296a526a0e7fc01736378b57967e4c26a0496fffd133aae633ad171abf6ac77"
  },
  "kernelspec": {
   "display_name": "Python 3.9.11 ('memspectrum')",
   "language": "python",
   "name": "python3"
  },
  "language_info": {
   "name": "python",
   "version": "3.9.11"
  },
  "orig_nbformat": 4
 },
 "nbformat": 4,
 "nbformat_minor": 2
}
