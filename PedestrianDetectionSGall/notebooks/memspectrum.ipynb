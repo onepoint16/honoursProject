{
 "cells": [
  {
   "cell_type": "code",
   "execution_count": 3,
   "metadata": {},
   "outputs": [],
   "source": [
    "# Import Memspectrum\n",
    "from memspectrum import MESA\n",
    "\n",
    "import numpy as np\n",
    "\n",
    "np.random.seed(0)\n",
    "\n",
    "import matplotlib.pyplot as plt\n",
    "\n",
    "%matplotlib inline "
   ]
  },
  {
   "cell_type": "markdown",
   "metadata": {},
   "source": [
    "#### outputted results\n",
    "\n",
    "{'frame 540': {0: {'pedestrian 0': (767, 1243)}, 1: {'pedestrian 1': (803, 1368)}, 3: {'pedestrian 2': (782, 1452)}}}\n",
    "{'frame 550': {0: {'pedestrian 0': (752, 1217)}, 1: {'pedestrian 1': (776, 1324)}, 2: {'pedestrian 2': (774, 1422)}}}\n",
    "{'frame 560': {0: {'pedestrian 0': (789, 1367)}, 1: {'pedestrian 1': (746, 1188)}, 2: {'pedestrian 2': (767, 1295)}}}\n",
    "{'frame 570': {0: {'pedestrian 0': (759, 1266)}, 1: {'pedestrian 1': (766, 1332)}, 2: {'pedestrian 2': (716, 1148)}}}\n",
    "{'frame 580': {0: {'pedestrian 0': (742, 1235)}, 1: {'pedestrian 1': (717, 1126)}, 2: {'pedestrian 2': (760, 1305)}}}\n",
    "{'frame 590': {0: {'pedestrian 0': (741, 1217)}, 1: {'pedestrian 1': (753, 1271)}, 2: {'pedestrian 2': (711, 1101)}}}\n",
    "{'frame 600': {0: {'pedestrian 0': (736, 1191)}, 1: {'pedestrian 1': (739, 1246)}, 2: {'pedestrian 2': (699, 1078)}}}\n",
    "{'frame 610': {0: {'pedestrian 0': (739, 1228)}, 1: {'pedestrian 1': (722, 1171)}, 2: {'pedestrian 2': (690, 1073)}}}\n",
    "{'frame 620': {0: {'pedestrian 0': (725, 1212)}, 1: {'pedestrian 1': (719, 1154)}, 2: {'pedestrian 2': (689, 1065)}}}\n",
    "{'frame 630': {0: {'pedestrian 0': (714, 1138)}, 1: {'pedestrian 1': (729, 1186)}, 2: {'pedestrian 2': (689, 1058)}}}"
   ]
  },
  {
   "cell_type": "code",
   "execution_count": 7,
   "metadata": {},
   "outputs": [],
   "source": [
    "# Making dataset from the 3 pedestrians movments \n",
    "\n",
    "# Pedestrian 0\n",
    "person_0_X = [767, 752, 746, 716, 717, 711]\n",
    "\n",
    "person_0_Y = [1243, 1217, 1188, 1148, 1126, 1101]\n",
    "\n",
    "# Pedestrian 1\n",
    "person_1_X = [803, 776, 767, 759, 742, 741]\n",
    "\n",
    "person_1_Y = [1368, 1324, 1295, 1266, 1235, 1217]\n",
    "\n",
    "# Pedestrian 2\n",
    "person_2_X = [782, 774, 789, 766, 760, 753]\n",
    "\n",
    "person_2_Y = [1452, 1422, 1367, 1332, 1305, 1271]"
   ]
  },
  {
   "cell_type": "code",
   "execution_count": 13,
   "metadata": {},
   "outputs": [
    {
     "ename": "ValueError",
     "evalue": "could not broadcast input array from shape (6,) into shape (10,0)",
     "output_type": "error",
     "traceback": [
      "\u001b[1;31m---------------------------------------------------------------------------\u001b[0m",
      "\u001b[1;31mValueError\u001b[0m                                Traceback (most recent call last)",
      "\u001b[1;32mc:\\Users\\every\\code\\honoursProject\\PedestrianDetectionSGall\\notebooks\\memspectrum.ipynb Cell 4'\u001b[0m in \u001b[0;36m<cell line: 7>\u001b[1;34m()\u001b[0m\n\u001b[0;32m      <a href='vscode-notebook-cell:/c%3A/Users/every/code/honoursProject/PedestrianDetectionSGall/notebooks/memspectrum.ipynb#ch0000003?line=3'>4</a>\u001b[0m \u001b[39m# Run Memspectrum on Person 0 X and Y\u001b[39;00m\n\u001b[0;32m      <a href='vscode-notebook-cell:/c%3A/Users/every/code/honoursProject/PedestrianDetectionSGall/notebooks/memspectrum.ipynb#ch0000003?line=4'>5</a>\u001b[0m m\u001b[39m.\u001b[39msolve(person_0_X)\n\u001b[1;32m----> <a href='vscode-notebook-cell:/c%3A/Users/every/code/honoursProject/PedestrianDetectionSGall/notebooks/memspectrum.ipynb#ch0000003?line=6'>7</a>\u001b[0m forecast \u001b[39m=\u001b[39m m\u001b[39m.\u001b[39;49mforecast(person_0_X, length \u001b[39m=\u001b[39;49m \u001b[39m1\u001b[39;49m, number_of_simulations \u001b[39m=\u001b[39;49m \u001b[39m10\u001b[39;49m, include_data \u001b[39m=\u001b[39;49m \u001b[39mFalse\u001b[39;49;00m)\n\u001b[0;32m      <a href='vscode-notebook-cell:/c%3A/Users/every/code/honoursProject/PedestrianDetectionSGall/notebooks/memspectrum.ipynb#ch0000003?line=8'>9</a>\u001b[0m \u001b[39mprint\u001b[39m(forecast)\n",
      "File \u001b[1;32m~\\anaconda3\\envs\\memspectrum\\lib\\site-packages\\memspectrum\\memspectrum.py:841\u001b[0m, in \u001b[0;36mMESA.forecast\u001b[1;34m(self, data, length, number_of_simulations, P, include_data, seed, verbose)\u001b[0m\n\u001b[0;32m    <a href='file:///c%3A/Users/every/anaconda3/envs/memspectrum/lib/site-packages/memspectrum/memspectrum.py?line=838'>839</a>\u001b[0m \u001b[39massert\u001b[39;00m data\u001b[39m.\u001b[39mndim \u001b[39m==\u001b[39m \u001b[39m1\u001b[39m, \u001b[39mValueError\u001b[39;00m(\u001b[39m\"\u001b[39m\u001b[39mWrong number of dimension for data: 1 dim expcted but got \u001b[39m\u001b[39m{}\u001b[39;00m\u001b[39m dims\u001b[39m\u001b[39m\"\u001b[39m\u001b[39m.\u001b[39mformat(data\u001b[39m.\u001b[39mndim))\n\u001b[0;32m    <a href='file:///c%3A/Users/every/anaconda3/envs/memspectrum/lib/site-packages/memspectrum/memspectrum.py?line=839'>840</a>\u001b[0m \u001b[39mif\u001b[39;00m \u001b[39mlen\u001b[39m(data) \u001b[39m>\u001b[39m\u001b[39m=\u001b[39m p:\n\u001b[1;32m--> <a href='file:///c%3A/Users/every/anaconda3/envs/memspectrum/lib/site-packages/memspectrum/memspectrum.py?line=840'>841</a>\u001b[0m     predictions[:,:p] \u001b[39m=\u001b[39m data[\u001b[39m-\u001b[39mp:]\n\u001b[0;32m    <a href='file:///c%3A/Users/every/anaconda3/envs/memspectrum/lib/site-packages/memspectrum/memspectrum.py?line=841'>842</a>\u001b[0m \u001b[39melse\u001b[39;00m:\n\u001b[0;32m    <a href='file:///c%3A/Users/every/anaconda3/envs/memspectrum/lib/site-packages/memspectrum/memspectrum.py?line=842'>843</a>\u001b[0m     \u001b[39mraise\u001b[39;00m \u001b[39mValueError\u001b[39;00m(\u001b[39m\"\u001b[39m\u001b[39mData are not long enough for forecasting\u001b[39m\u001b[39m\"\u001b[39m)\n",
      "\u001b[1;31mValueError\u001b[0m: could not broadcast input array from shape (6,) into shape (10,0)"
     ]
    }
   ],
   "source": [
    "# Instantiate an Instance of MESA\n",
    "m = MESA()\n",
    "\n",
    "# Run Memspectrum on Person 0 X and Y\n",
    "m.solve(person_0_X)\n",
    "\n",
    "forecast = m.forecast(person_0_X, length = 1, number_of_simulations = 10, include_data = False)\n",
    "\n",
    "print(forecast)"
   ]
  },
  {
   "cell_type": "code",
   "execution_count": 9,
   "metadata": {},
   "outputs": [
    {
     "data": {
      "image/png": "[encoded data removed]",
      "text/plain": [
       "<Figure size 432x288 with 1 Axes>"
      ]
     },
     "metadata": {
      "needs_background": "light"
     },
     "output_type": "display_data"
    }
   ],
   "source": [
    "N, dt = 6, 1  # Number of samples and sampling interval\n",
    "no_pred = 2\n",
    "time = np.arange(0, N) * dt\n",
    "data = [24, 27, 31, 36, 42, 49, 57, 66, 76, 87]\n",
    "plt.plot(time[:-1], person_0_X[:-1], color = 'k')\n",
    "plt.show()"
   ]
  },
  {
   "cell_type": "code",
   "execution_count": 14,
   "metadata": {},
   "outputs": [
    {
     "ename": "IndexError",
     "evalue": "index 4 is out of bounds for axis 0 with size 4",
     "output_type": "error",
     "traceback": [
      "\u001b[1;31m---------------------------------------------------------------------------\u001b[0m",
      "\u001b[1;31mIndexError\u001b[0m                                Traceback (most recent call last)",
      "\u001b[1;32mc:\\Users\\every\\code\\honoursProject\\PedestrianDetectionSGall\\notebooks\\memspectrum.ipynb Cell 6'\u001b[0m in \u001b[0;36m<cell line: 2>\u001b[1;34m()\u001b[0m\n\u001b[0;32m      <a href='vscode-notebook-cell:/c%3A/Users/every/code/honoursProject/PedestrianDetectionSGall/notebooks/memspectrum.ipynb#ch0000005?line=0'>1</a>\u001b[0m M \u001b[39m=\u001b[39m MESA()\n\u001b[1;32m----> <a href='vscode-notebook-cell:/c%3A/Users/every/code/honoursProject/PedestrianDetectionSGall/notebooks/memspectrum.ipynb#ch0000005?line=1'>2</a>\u001b[0m M\u001b[39m.\u001b[39;49msolve(person_0_X[:\u001b[39m-\u001b[39;49mno_pred])\n\u001b[0;32m      <a href='vscode-notebook-cell:/c%3A/Users/every/code/honoursProject/PedestrianDetectionSGall/notebooks/memspectrum.ipynb#ch0000005?line=2'>3</a>\u001b[0m forecast \u001b[39m=\u001b[39m M\u001b[39m.\u001b[39mforecast(person_0_X[:\u001b[39m-\u001b[39mno_pred], length \u001b[39m=\u001b[39m no_pred, number_of_simulations \u001b[39m=\u001b[39m no_pred\u001b[39m*\u001b[39m\u001b[39m100\u001b[39m, \n\u001b[0;32m      <a href='vscode-notebook-cell:/c%3A/Users/every/code/honoursProject/PedestrianDetectionSGall/notebooks/memspectrum.ipynb#ch0000005?line=3'>4</a>\u001b[0m include_data \u001b[39m=\u001b[39m \u001b[39mFalse\u001b[39;00m)\n\u001b[0;32m      <a href='vscode-notebook-cell:/c%3A/Users/every/code/honoursProject/PedestrianDetectionSGall/notebooks/memspectrum.ipynb#ch0000005?line=4'>5</a>\u001b[0m median \u001b[39m=\u001b[39m np\u001b[39m.\u001b[39mmedian(forecast, axis \u001b[39m=\u001b[39m \u001b[39m0\u001b[39m)\n",
      "File \u001b[1;32m~\\anaconda3\\envs\\memspectrum\\lib\\site-packages\\memspectrum\\memspectrum.py:555\u001b[0m, in \u001b[0;36mMESA.solve\u001b[1;34m(self, data, m, optimisation_method, method, regularisation, early_stop, verbose)\u001b[0m\n\u001b[0;32m    <a href='file:///c%3A/Users/every/anaconda3/envs/memspectrum/lib/site-packages/memspectrum/memspectrum.py?line=551'>552</a>\u001b[0m     exit(\u001b[39m-\u001b[39m\u001b[39m1\u001b[39m)\n\u001b[0;32m    <a href='file:///c%3A/Users/every/anaconda3/envs/memspectrum/lib/site-packages/memspectrum/memspectrum.py?line=553'>554</a>\u001b[0m \u001b[39mself\u001b[39m\u001b[39m.\u001b[39m_loss_function \u001b[39m=\u001b[39m loss_function(optimisation_method)\n\u001b[1;32m--> <a href='file:///c%3A/Users/every/anaconda3/envs/memspectrum/lib/site-packages/memspectrum/memspectrum.py?line=554'>555</a>\u001b[0m \u001b[39mself\u001b[39m\u001b[39m.\u001b[39mP, \u001b[39mself\u001b[39m\u001b[39m.\u001b[39ma_k, \u001b[39mself\u001b[39m\u001b[39m.\u001b[39moptimization \u001b[39m=\u001b[39m \u001b[39mself\u001b[39;49m\u001b[39m.\u001b[39;49m_method()\n\u001b[0;32m    <a href='file:///c%3A/Users/every/anaconda3/envs/memspectrum/lib/site-packages/memspectrum/memspectrum.py?line=555'>556</a>\u001b[0m \u001b[39mdel\u001b[39;00m \u001b[39mself\u001b[39m\u001b[39m.\u001b[39mdata\n\u001b[0;32m    <a href='file:///c%3A/Users/every/anaconda3/envs/memspectrum/lib/site-packages/memspectrum/memspectrum.py?line=556'>557</a>\u001b[0m \u001b[39mreturn\u001b[39;00m \u001b[39mself\u001b[39m\u001b[39m.\u001b[39mP, \u001b[39mself\u001b[39m\u001b[39m.\u001b[39ma_k, \u001b[39mself\u001b[39m\u001b[39m.\u001b[39moptimization\n",
      "File \u001b[1;32m~\\anaconda3\\envs\\memspectrum\\lib\\site-packages\\memspectrum\\memspectrum.py:600\u001b[0m, in \u001b[0;36mMESA._FastBurg\u001b[1;34m(self)\u001b[0m\n\u001b[0;32m    <a href='file:///c%3A/Users/every/anaconda3/envs/memspectrum/lib/site-packages/memspectrum/memspectrum.py?line=597'>598</a>\u001b[0m k, new_a \u001b[39m=\u001b[39m \u001b[39mself\u001b[39m\u001b[39m.\u001b[39m_updateCoefficients(a[\u001b[39m-\u001b[39m\u001b[39m1\u001b[39m], g)\n\u001b[0;32m    <a href='file:///c%3A/Users/every/anaconda3/envs/memspectrum/lib/site-packages/memspectrum/memspectrum.py?line=598'>599</a>\u001b[0m \u001b[39m#Update variables. Check paper for indices at j-th loop.\u001b[39;00m\n\u001b[1;32m--> <a href='file:///c%3A/Users/every/anaconda3/envs/memspectrum/lib/site-packages/memspectrum/memspectrum.py?line=599'>600</a>\u001b[0m r \u001b[39m=\u001b[39m \u001b[39mself\u001b[39m\u001b[39m.\u001b[39m_updateR(i, r, c[i \u001b[39m+\u001b[39;49m \u001b[39m2\u001b[39;49m])\n\u001b[0;32m    <a href='file:///c%3A/Users/every/anaconda3/envs/memspectrum/lib/site-packages/memspectrum/memspectrum.py?line=600'>601</a>\u001b[0m \u001b[39m#Construct the array in two different, equivalent ways.\u001b[39;00m\n\u001b[0;32m    <a href='file:///c%3A/Users/every/anaconda3/envs/memspectrum/lib/site-packages/memspectrum/memspectrum.py?line=601'>602</a>\u001b[0m DrA \u001b[39m=\u001b[39m \u001b[39mself\u001b[39m\u001b[39m.\u001b[39m_constructDr2(i, new_a)\n",
      "\u001b[1;31mIndexError\u001b[0m: index 4 is out of bounds for axis 0 with size 4"
     ]
    }
   ],
   "source": [
    "M = MESA()\n",
    "M.solve(person_0_X[:-no_pred])\n",
    "forecast = M.forecast(person_0_X[:-no_pred], length = no_pred, number_of_simulations = no_pred*100, \n",
    "include_data = False)\n",
    "median = np.median(forecast, axis = 0) # Ensemble median"
   ]
  },
  {
   "cell_type": "code",
   "execution_count": 15,
   "metadata": {},
   "outputs": [
    {
     "ename": "ValueError",
     "evalue": "x and y must have same first dimension, but have shapes (6,) and (10,)",
     "output_type": "error",
     "traceback": [
      "\u001b[1;31m---------------------------------------------------------------------------\u001b[0m",
      "\u001b[1;31mValueError\u001b[0m                                Traceback (most recent call last)",
      "\u001b[1;32mc:\\Users\\every\\code\\honoursProject\\PedestrianDetectionSGall\\notebooks\\memspectrum.ipynb Cell 7'\u001b[0m in \u001b[0;36m<cell line: 1>\u001b[1;34m()\u001b[0m\n\u001b[1;32m----> <a href='vscode-notebook-cell:/c%3A/Users/every/code/honoursProject/PedestrianDetectionSGall/notebooks/memspectrum.ipynb#ch0000006?line=0'>1</a>\u001b[0m plt\u001b[39m.\u001b[39;49mplot(time, data, color \u001b[39m=\u001b[39;49m \u001b[39m'\u001b[39;49m\u001b[39mk\u001b[39;49m\u001b[39m'\u001b[39;49m)\n\u001b[0;32m      <a href='vscode-notebook-cell:/c%3A/Users/every/code/honoursProject/PedestrianDetectionSGall/notebooks/memspectrum.ipynb#ch0000006?line=1'>2</a>\u001b[0m plt\u001b[39m.\u001b[39mplot(time[N\u001b[39m-\u001b[39mno_pred:], data[N\u001b[39m-\u001b[39mno_pred:], color \u001b[39m=\u001b[39m \u001b[39m'\u001b[39m\u001b[39mg\u001b[39m\u001b[39m'\u001b[39m, linestyle \u001b[39m=\u001b[39m \u001b[39m'\u001b[39m\u001b[39m-.\u001b[39m\u001b[39m'\u001b[39m, label \u001b[39m=\u001b[39m \u001b[39m'\u001b[39m\u001b[39mObserved data\u001b[39m\u001b[39m'\u001b[39m)\n\u001b[0;32m      <a href='vscode-notebook-cell:/c%3A/Users/every/code/honoursProject/PedestrianDetectionSGall/notebooks/memspectrum.ipynb#ch0000006?line=2'>3</a>\u001b[0m plt\u001b[39m.\u001b[39mplot(time[N\u001b[39m-\u001b[39mno_pred:], median, color \u001b[39m=\u001b[39m \u001b[39m'\u001b[39m\u001b[39mr\u001b[39m\u001b[39m'\u001b[39m, label \u001b[39m=\u001b[39m \u001b[39m'\u001b[39m\u001b[39mmedian estimate\u001b[39m\u001b[39m'\u001b[39m)\n",
      "File \u001b[1;32m~\\anaconda3\\envs\\memspectrum\\lib\\site-packages\\matplotlib\\pyplot.py:2757\u001b[0m, in \u001b[0;36mplot\u001b[1;34m(scalex, scaley, data, *args, **kwargs)\u001b[0m\n\u001b[0;32m   <a href='file:///c%3A/Users/every/anaconda3/envs/memspectrum/lib/site-packages/matplotlib/pyplot.py?line=2754'>2755</a>\u001b[0m \u001b[39m@_copy_docstring_and_deprecators\u001b[39m(Axes\u001b[39m.\u001b[39mplot)\n\u001b[0;32m   <a href='file:///c%3A/Users/every/anaconda3/envs/memspectrum/lib/site-packages/matplotlib/pyplot.py?line=2755'>2756</a>\u001b[0m \u001b[39mdef\u001b[39;00m \u001b[39mplot\u001b[39m(\u001b[39m*\u001b[39margs, scalex\u001b[39m=\u001b[39m\u001b[39mTrue\u001b[39;00m, scaley\u001b[39m=\u001b[39m\u001b[39mTrue\u001b[39;00m, data\u001b[39m=\u001b[39m\u001b[39mNone\u001b[39;00m, \u001b[39m*\u001b[39m\u001b[39m*\u001b[39mkwargs):\n\u001b[1;32m-> <a href='file:///c%3A/Users/every/anaconda3/envs/memspectrum/lib/site-packages/matplotlib/pyplot.py?line=2756'>2757</a>\u001b[0m     \u001b[39mreturn\u001b[39;00m gca()\u001b[39m.\u001b[39mplot(\n\u001b[0;32m   <a href='file:///c%3A/Users/every/anaconda3/envs/memspectrum/lib/site-packages/matplotlib/pyplot.py?line=2757'>2758</a>\u001b[0m         \u001b[39m*\u001b[39margs, scalex\u001b[39m=\u001b[39mscalex, scaley\u001b[39m=\u001b[39mscaley,\n\u001b[0;32m   <a href='file:///c%3A/Users/every/anaconda3/envs/memspectrum/lib/site-packages/matplotlib/pyplot.py?line=2758'>2759</a>\u001b[0m         \u001b[39m*\u001b[39m\u001b[39m*\u001b[39m({\u001b[39m\"\u001b[39m\u001b[39mdata\u001b[39m\u001b[39m\"\u001b[39m: data} \u001b[39mif\u001b[39;00m data \u001b[39mis\u001b[39;00m \u001b[39mnot\u001b[39;00m \u001b[39mNone\u001b[39;00m \u001b[39melse\u001b[39;00m {}), \u001b[39m*\u001b[39m\u001b[39m*\u001b[39mkwargs)\n",
      "File \u001b[1;32m~\\anaconda3\\envs\\memspectrum\\lib\\site-packages\\matplotlib\\axes\\_axes.py:1632\u001b[0m, in \u001b[0;36mAxes.plot\u001b[1;34m(self, scalex, scaley, data, *args, **kwargs)\u001b[0m\n\u001b[0;32m   <a href='file:///c%3A/Users/every/anaconda3/envs/memspectrum/lib/site-packages/matplotlib/axes/_axes.py?line=1389'>1390</a>\u001b[0m \u001b[39m\"\"\"\u001b[39;00m\n\u001b[0;32m   <a href='file:///c%3A/Users/every/anaconda3/envs/memspectrum/lib/site-packages/matplotlib/axes/_axes.py?line=1390'>1391</a>\u001b[0m \u001b[39mPlot y versus x as lines and/or markers.\u001b[39;00m\n\u001b[0;32m   <a href='file:///c%3A/Users/every/anaconda3/envs/memspectrum/lib/site-packages/matplotlib/axes/_axes.py?line=1391'>1392</a>\u001b[0m \n\u001b[1;32m   (...)\u001b[0m\n\u001b[0;32m   <a href='file:///c%3A/Users/every/anaconda3/envs/memspectrum/lib/site-packages/matplotlib/axes/_axes.py?line=1628'>1629</a>\u001b[0m \u001b[39m(``'green'``) or hex strings (``'#008000'``).\u001b[39;00m\n\u001b[0;32m   <a href='file:///c%3A/Users/every/anaconda3/envs/memspectrum/lib/site-packages/matplotlib/axes/_axes.py?line=1629'>1630</a>\u001b[0m \u001b[39m\"\"\"\u001b[39;00m\n\u001b[0;32m   <a href='file:///c%3A/Users/every/anaconda3/envs/memspectrum/lib/site-packages/matplotlib/axes/_axes.py?line=1630'>1631</a>\u001b[0m kwargs \u001b[39m=\u001b[39m cbook\u001b[39m.\u001b[39mnormalize_kwargs(kwargs, mlines\u001b[39m.\u001b[39mLine2D)\n\u001b[1;32m-> <a href='file:///c%3A/Users/every/anaconda3/envs/memspectrum/lib/site-packages/matplotlib/axes/_axes.py?line=1631'>1632</a>\u001b[0m lines \u001b[39m=\u001b[39m [\u001b[39m*\u001b[39m\u001b[39mself\u001b[39m\u001b[39m.\u001b[39m_get_lines(\u001b[39m*\u001b[39margs, data\u001b[39m=\u001b[39mdata, \u001b[39m*\u001b[39m\u001b[39m*\u001b[39mkwargs)]\n\u001b[0;32m   <a href='file:///c%3A/Users/every/anaconda3/envs/memspectrum/lib/site-packages/matplotlib/axes/_axes.py?line=1632'>1633</a>\u001b[0m \u001b[39mfor\u001b[39;00m line \u001b[39min\u001b[39;00m lines:\n\u001b[0;32m   <a href='file:///c%3A/Users/every/anaconda3/envs/memspectrum/lib/site-packages/matplotlib/axes/_axes.py?line=1633'>1634</a>\u001b[0m     \u001b[39mself\u001b[39m\u001b[39m.\u001b[39madd_line(line)\n",
      "File \u001b[1;32m~\\anaconda3\\envs\\memspectrum\\lib\\site-packages\\matplotlib\\axes\\_base.py:312\u001b[0m, in \u001b[0;36m_process_plot_var_args.__call__\u001b[1;34m(self, data, *args, **kwargs)\u001b[0m\n\u001b[0;32m    <a href='file:///c%3A/Users/every/anaconda3/envs/memspectrum/lib/site-packages/matplotlib/axes/_base.py?line=309'>310</a>\u001b[0m     this \u001b[39m+\u001b[39m\u001b[39m=\u001b[39m args[\u001b[39m0\u001b[39m],\n\u001b[0;32m    <a href='file:///c%3A/Users/every/anaconda3/envs/memspectrum/lib/site-packages/matplotlib/axes/_base.py?line=310'>311</a>\u001b[0m     args \u001b[39m=\u001b[39m args[\u001b[39m1\u001b[39m:]\n\u001b[1;32m--> <a href='file:///c%3A/Users/every/anaconda3/envs/memspectrum/lib/site-packages/matplotlib/axes/_base.py?line=311'>312</a>\u001b[0m \u001b[39myield from\u001b[39;00m \u001b[39mself\u001b[39;49m\u001b[39m.\u001b[39;49m_plot_args(this, kwargs)\n",
      "File \u001b[1;32m~\\anaconda3\\envs\\memspectrum\\lib\\site-packages\\matplotlib\\axes\\_base.py:498\u001b[0m, in \u001b[0;36m_process_plot_var_args._plot_args\u001b[1;34m(self, tup, kwargs, return_kwargs)\u001b[0m\n\u001b[0;32m    <a href='file:///c%3A/Users/every/anaconda3/envs/memspectrum/lib/site-packages/matplotlib/axes/_base.py?line=494'>495</a>\u001b[0m     \u001b[39mself\u001b[39m\u001b[39m.\u001b[39maxes\u001b[39m.\u001b[39myaxis\u001b[39m.\u001b[39mupdate_units(y)\n\u001b[0;32m    <a href='file:///c%3A/Users/every/anaconda3/envs/memspectrum/lib/site-packages/matplotlib/axes/_base.py?line=496'>497</a>\u001b[0m \u001b[39mif\u001b[39;00m x\u001b[39m.\u001b[39mshape[\u001b[39m0\u001b[39m] \u001b[39m!=\u001b[39m y\u001b[39m.\u001b[39mshape[\u001b[39m0\u001b[39m]:\n\u001b[1;32m--> <a href='file:///c%3A/Users/every/anaconda3/envs/memspectrum/lib/site-packages/matplotlib/axes/_base.py?line=497'>498</a>\u001b[0m     \u001b[39mraise\u001b[39;00m \u001b[39mValueError\u001b[39;00m(\u001b[39mf\u001b[39m\u001b[39m\"\u001b[39m\u001b[39mx and y must have same first dimension, but \u001b[39m\u001b[39m\"\u001b[39m\n\u001b[0;32m    <a href='file:///c%3A/Users/every/anaconda3/envs/memspectrum/lib/site-packages/matplotlib/axes/_base.py?line=498'>499</a>\u001b[0m                      \u001b[39mf\u001b[39m\u001b[39m\"\u001b[39m\u001b[39mhave shapes \u001b[39m\u001b[39m{\u001b[39;00mx\u001b[39m.\u001b[39mshape\u001b[39m}\u001b[39;00m\u001b[39m and \u001b[39m\u001b[39m{\u001b[39;00my\u001b[39m.\u001b[39mshape\u001b[39m}\u001b[39;00m\u001b[39m\"\u001b[39m)\n\u001b[0;32m    <a href='file:///c%3A/Users/every/anaconda3/envs/memspectrum/lib/site-packages/matplotlib/axes/_base.py?line=499'>500</a>\u001b[0m \u001b[39mif\u001b[39;00m x\u001b[39m.\u001b[39mndim \u001b[39m>\u001b[39m \u001b[39m2\u001b[39m \u001b[39mor\u001b[39;00m y\u001b[39m.\u001b[39mndim \u001b[39m>\u001b[39m \u001b[39m2\u001b[39m:\n\u001b[0;32m    <a href='file:///c%3A/Users/every/anaconda3/envs/memspectrum/lib/site-packages/matplotlib/axes/_base.py?line=500'>501</a>\u001b[0m     \u001b[39mraise\u001b[39;00m \u001b[39mValueError\u001b[39;00m(\u001b[39mf\u001b[39m\u001b[39m\"\u001b[39m\u001b[39mx and y can be no greater than 2D, but have \u001b[39m\u001b[39m\"\u001b[39m\n\u001b[0;32m    <a href='file:///c%3A/Users/every/anaconda3/envs/memspectrum/lib/site-packages/matplotlib/axes/_base.py?line=501'>502</a>\u001b[0m                      \u001b[39mf\u001b[39m\u001b[39m\"\u001b[39m\u001b[39mshapes \u001b[39m\u001b[39m{\u001b[39;00mx\u001b[39m.\u001b[39mshape\u001b[39m}\u001b[39;00m\u001b[39m and \u001b[39m\u001b[39m{\u001b[39;00my\u001b[39m.\u001b[39mshape\u001b[39m}\u001b[39;00m\u001b[39m\"\u001b[39m)\n",
      "\u001b[1;31mValueError\u001b[0m: x and y must have same first dimension, but have shapes (6,) and (10,)"
     ]
    },
    {
     "data": {
      "image/png": "[encoded data removed]",
      "text/plain": [
       "<Figure size 432x288 with 1 Axes>"
      ]
     },
     "metadata": {
      "needs_background": "light"
     },
     "output_type": "display_data"
    }
   ],
   "source": [
    "plt.plot(time, data, color = 'k')\n",
    "plt.plot(time[N-no_pred:], data[N-no_pred:], color = 'g', linestyle = '-.', label = 'Observed data')\n",
    "plt.plot(time[N-no_pred:], median, color = 'r', label = 'median estimate')\n",
    "plt.show()"
   ]
  },
  {
   "cell_type": "code",
   "execution_count": 16,
   "metadata": {},
   "outputs": [
    {
     "name": "stdout",
     "output_type": "stream",
     "text": [
      "Real Values =  [42, 49, 57, 66, 76, 87]\n"
     ]
    },
    {
     "ename": "NameError",
     "evalue": "name 'median' is not defined",
     "output_type": "error",
     "traceback": [
      "\u001b[1;31m---------------------------------------------------------------------------\u001b[0m",
      "\u001b[1;31mNameError\u001b[0m                                 Traceback (most recent call last)",
      "\u001b[1;32mc:\\Users\\every\\code\\honoursProject\\PedestrianDetectionSGall\\notebooks\\memspectrum.ipynb Cell 8'\u001b[0m in \u001b[0;36m<cell line: 4>\u001b[1;34m()\u001b[0m\n\u001b[0;32m      <a href='vscode-notebook-cell:/c%3A/Users/every/code/honoursProject/PedestrianDetectionSGall/notebooks/memspectrum.ipynb#ch0000007?line=1'>2</a>\u001b[0m real_values \u001b[39m=\u001b[39m data[N\u001b[39m-\u001b[39mno_pred:]\n\u001b[0;32m      <a href='vscode-notebook-cell:/c%3A/Users/every/code/honoursProject/PedestrianDetectionSGall/notebooks/memspectrum.ipynb#ch0000007?line=2'>3</a>\u001b[0m \u001b[39mprint\u001b[39m(\u001b[39m\"\u001b[39m\u001b[39mReal Values = \u001b[39m\u001b[39m\"\u001b[39m, real_values)\n\u001b[1;32m----> <a href='vscode-notebook-cell:/c%3A/Users/every/code/honoursProject/PedestrianDetectionSGall/notebooks/memspectrum.ipynb#ch0000007?line=3'>4</a>\u001b[0m \u001b[39mprint\u001b[39m(\u001b[39m\"\u001b[39m\u001b[39mMedian Values = \u001b[39m\u001b[39m\"\u001b[39m, median)\n\u001b[0;32m      <a href='vscode-notebook-cell:/c%3A/Users/every/code/honoursProject/PedestrianDetectionSGall/notebooks/memspectrum.ipynb#ch0000007?line=4'>5</a>\u001b[0m SSE \u001b[39m=\u001b[39m np\u001b[39m.\u001b[39msum((real_values \u001b[39m-\u001b[39m median)\u001b[39m*\u001b[39m\u001b[39m*\u001b[39m\u001b[39m2\u001b[39m)\n\u001b[0;32m      <a href='vscode-notebook-cell:/c%3A/Users/every/code/honoursProject/PedestrianDetectionSGall/notebooks/memspectrum.ipynb#ch0000007?line=5'>6</a>\u001b[0m \u001b[39mprint\u001b[39m(\u001b[39m\"\u001b[39m\u001b[39mSSE = \u001b[39m\u001b[39m\"\u001b[39m, SSE)\n",
      "\u001b[1;31mNameError\u001b[0m: name 'median' is not defined"
     ]
    }
   ],
   "source": [
    "# Sum Squared Error just as a quick evaluation\n",
    "real_values = data[N-no_pred:]\n",
    "print(\"Real Values = \", real_values)\n",
    "print(\"Median Values = \", median)\n",
    "SSE = np.sum((real_values - median)**2)\n",
    "print(\"SSE = \", SSE)"
   ]
  }
 ],
 "metadata": {
  "interpreter": {
   "hash": "1296a526a0e7fc01736378b57967e4c26a0496fffd133aae633ad171abf6ac77"
  },
  "kernelspec": {
   "display_name": "Python 3.9.11 ('memspectrum')",
   "language": "python",
   "name": "python3"
  },
  "language_info": {
   "codemirror_mode": {
    "name": "ipython",
    "version": 3
   },
   "file_extension": ".py",
   "mimetype": "text/x-python",
   "name": "python",
   "nbconvert_exporter": "python",
   "pygments_lexer": "ipython3",
   "version": "3.9.7"
  },
  "orig_nbformat": 4
 },
 "nbformat": 4,
 "nbformat_minor": 2
}
