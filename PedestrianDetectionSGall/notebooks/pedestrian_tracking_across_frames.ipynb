{
 "cells": [
  {
   "cell_type": "markdown",
   "metadata": {},
   "source": [
    "# Pedestrian Tracking across frames of video\n",
    "\n",
    "### This notebook will use the object identification from the Pedestrian detection notebook \n",
    "- A selected video will be broken into frames\n",
    "- The pedestrians will be identified and logged\n",
    "- coordinates of bounding box will be tracked for 6 frames\n",
    "- Algorithim will try to predict where the pedestrian will be 6 frames from the current frame"
   ]
  },
  {
   "cell_type": "code",
   "execution_count": 1,
   "metadata": {},
   "outputs": [
    {
     "name": "stdout",
     "output_type": "stream",
     "text": [
      "Root Directory:  /home/sam/Documents/GitHub/honoursProject/PedestrianDetectionSGall\n"
     ]
    }
   ],
   "source": [
    "import os\n",
    "import sys\n",
    "import numpy as np\n",
    "np.random.seed(0)\n",
    "import matplotlib.pyplot as plt\n",
    "import cv2\n",
    "\n",
    "# Root directory of the project\n",
    "ROOT_DIR = os.path.abspath(\"../\")\n",
    "print(\"Root Directory: \", ROOT_DIR)\n",
    "sys.path.append(ROOT_DIR)\n",
    "\n",
    "from mrcnn.config import Config\n",
    "from mrcnn import utils\n",
    "import mrcnn.model as modellib\n",
    "from mrcnn import visualize\n",
    "from mrcnn.model import log\n",
    "from scripts import coco\n",
    "from scripts import display_instance as di"
   ]
  },
  {
   "cell_type": "code",
   "execution_count": 2,
   "metadata": {},
   "outputs": [],
   "source": [
    "vid_dir = \"/home/sam/Desktop/sam_bdd_videos/videos_for_frames/1/video/\"\n",
    "frames_dir = \"/home/sam/Desktop/sam_bdd_videos/videos_for_frames/1/frames/\"\n",
    "output_dir = \"/home/sam/Desktop/sam_bdd_videos/videos_for_frames/1/output_vid/\"\n",
    "final_imgs_dir = \"/home/sam/Desktop/sam_bdd_videos/videos_for_frames/1/output_img/\""
   ]
  },
  {
   "cell_type": "code",
   "execution_count": 3,
   "metadata": {},
   "outputs": [],
   "source": [
    "class InferenceConfig(coco.CocoConfig):\n",
    "    # Set batch size to 1 since we'll be running inference on\n",
    "    # one image at a time. Batch size = GPU_COUNT * IMAGES_PER_GPU\n",
    "    GPU_COUNT = 1\n",
    "    IMAGES_PER_GPU = 1\n",
    "\n",
    "# Device to load the neural network on.\n",
    "# Useful if you're training a model on the same \n",
    "# machine, in which case use CPU and leave the\n",
    "# GPU for training.\n",
    "DEVICE = \"/gpu:0\"  # /cpu:0 or /gpu:0"
   ]
  },
  {
   "cell_type": "code",
   "execution_count": 4,
   "metadata": {},
   "outputs": [],
   "source": [
    "# Directory to save logs and trained model\n",
    "MODEL_DIR = os.path.join(ROOT_DIR, \"logs\")\n",
    "\n",
    "# Local path to trained weights file\n",
    "COCO_MODEL_PATH = os.path.join(ROOT_DIR, \"weights/mask_rcnn_coco.h5\")\n",
    "# Download COCO trained weights from Releases if needed\n",
    "if not os.path.exists(COCO_MODEL_PATH):\n",
    "    utils.download_trained_weights(COCO_MODEL_PATH)\n",
    "\n",
    "class_names = ['BG', 'person', 'bicycle', 'car', 'motorcycle', 'airplane',\n",
    "                'bus', 'train', 'truck', 'boat', 'traffic light',\n",
    "                'fire hydrant', 'stop sign', 'parking meter', 'bench', 'bird',\n",
    "                'cat', 'dog', 'horse', 'sheep', 'cow', 'elephant', 'bear',\n",
    "                'zebra', 'giraffe', 'backpack', 'umbrella', 'handbag', 'tie',\n",
    "                'suitcase', 'frisbee', 'skis', 'snowboard', 'sports ball',\n",
    "                'kite', 'baseball bat', 'baseball glove', 'skateboard',\n",
    "                'surfboard', 'tennis racket', 'bottle', 'wine glass', 'cup',\n",
    "                'fork', 'knife', 'spoon', 'bowl', 'banana', 'apple',\n",
    "                'sandwich', 'orange', 'broccoli', 'carrot', 'hot dog', 'pizza',\n",
    "                'donut', 'cake', 'chair', 'couch', 'potted plant', 'bed',\n",
    "                'dining table', 'toilet', 'tv', 'laptop', 'mouse', 'remote',\n",
    "                'keyboard', 'cell phone', 'microwave', 'oven', 'toaster',\n",
    "                'sink', 'refrigerator', 'book', 'clock', 'vase', 'scissors',\n",
    "                'teddy bear', 'hair drier', 'toothbrush']\n",
    "\n",
    "config = InferenceConfig()"
   ]
  },
  {
   "cell_type": "code",
   "execution_count": 5,
   "metadata": {},
   "outputs": [
    {
     "name": "stderr",
     "output_type": "stream",
     "text": [
      "2022-03-08 19:51:07.913795: I tensorflow/stream_executor/cuda/cuda_gpu_executor.cc:936] successful NUMA node read from SysFS had negative value (-1), but there must be at least one NUMA node, so returning NUMA node zero\n",
      "2022-03-08 19:51:07.941901: I tensorflow/stream_executor/cuda/cuda_gpu_executor.cc:936] successful NUMA node read from SysFS had negative value (-1), but there must be at least one NUMA node, so returning NUMA node zero\n",
      "2022-03-08 19:51:07.942072: I tensorflow/stream_executor/cuda/cuda_gpu_executor.cc:936] successful NUMA node read from SysFS had negative value (-1), but there must be at least one NUMA node, so returning NUMA node zero\n",
      "2022-03-08 19:51:07.942623: I tensorflow/core/platform/cpu_feature_guard.cc:151] This TensorFlow binary is optimized with oneAPI Deep Neural Network Library (oneDNN) to use the following CPU instructions in performance-critical operations:  AVX2 FMA\n",
      "To enable them in other operations, rebuild TensorFlow with the appropriate compiler flags.\n",
      "2022-03-08 19:51:07.943272: I tensorflow/stream_executor/cuda/cuda_gpu_executor.cc:936] successful NUMA node read from SysFS had negative value (-1), but there must be at least one NUMA node, so returning NUMA node zero\n",
      "2022-03-08 19:51:07.943410: I tensorflow/stream_executor/cuda/cuda_gpu_executor.cc:936] successful NUMA node read from SysFS had negative value (-1), but there must be at least one NUMA node, so returning NUMA node zero\n",
      "2022-03-08 19:51:07.943526: I tensorflow/stream_executor/cuda/cuda_gpu_executor.cc:936] successful NUMA node read from SysFS had negative value (-1), but there must be at least one NUMA node, so returning NUMA node zero\n",
      "2022-03-08 19:51:08.303201: I tensorflow/stream_executor/cuda/cuda_gpu_executor.cc:936] successful NUMA node read from SysFS had negative value (-1), but there must be at least one NUMA node, so returning NUMA node zero\n",
      "2022-03-08 19:51:08.303381: I tensorflow/stream_executor/cuda/cuda_gpu_executor.cc:936] successful NUMA node read from SysFS had negative value (-1), but there must be at least one NUMA node, so returning NUMA node zero\n",
      "2022-03-08 19:51:08.303523: I tensorflow/stream_executor/cuda/cuda_gpu_executor.cc:936] successful NUMA node read from SysFS had negative value (-1), but there must be at least one NUMA node, so returning NUMA node zero\n",
      "2022-03-08 19:51:08.303639: I tensorflow/core/common_runtime/gpu/gpu_device.cc:1525] Created device /job:localhost/replica:0/task:0/device:GPU:0 with 20991 MB memory:  -> device: 0, name: NVIDIA GeForce RTX 3090, pci bus id: 0000:0a:00.0, compute capability: 8.6\n"
     ]
    },
    {
     "name": "stdout",
     "output_type": "stream",
     "text": [
      "WARNING:tensorflow:From /home/sam/anaconda3/envs/mrcnn/lib/python3.9/site-packages/tensorflow/python/util/deprecation.py:616: calling map_fn_v2 (from tensorflow.python.ops.map_fn) with dtype is deprecated and will be removed in a future version.\n",
      "Instructions for updating:\n",
      "Use fn_output_signature instead\n"
     ]
    }
   ],
   "source": [
    "# Create model object in inference mode.\n",
    "model = modellib.MaskRCNN(mode=\"inference\", model_dir=MODEL_DIR, config=config)\n",
    "\n",
    "# Load weights trained on MS-COCO\n",
    "model.load_weights(COCO_MODEL_PATH, by_name=True)"
   ]
  },
  {
   "cell_type": "code",
   "execution_count": 6,
   "metadata": {},
   "outputs": [
    {
     "name": "stdout",
     "output_type": "stream",
     "text": [
      "/home/sam/Desktop/sam_bdd_videos/videos_for_frames/1/video/cadf77c3-2857db38.mov\n"
     ]
    }
   ],
   "source": [
    "# Get video file name \n",
    "\n",
    "def get_video_name(vid_dir):\n",
    "    files = os.listdir(vid_dir) \n",
    "    s = \"\"\n",
    "    for file in files: \n",
    "        str_name = file[:21]\n",
    "        s = str_name\n",
    "    return s\n",
    "\n",
    "vid_name = get_video_name(vid_dir)\n",
    "\n",
    "video_path = vid_dir + vid_name\n",
    "print(video_path)"
   ]
  },
  {
   "cell_type": "markdown",
   "metadata": {},
   "source": [
    "##### Run video to confirm detection\n",
    "\n",
    "##### Takes about 4 mins\n",
    "\n",
    "cap = cv2.VideoCapture(video_path)\n",
    "while cap.isOpened():\n",
    "    ret, image = cap.read()\n",
    "    results = model.detect([image], verbose=1)\n",
    "    r = results[0]\n",
    "    image = di.display_instances(image, r['rois'], r['masks'], r['class_ids'], class_names, r['scores'])\n",
    "    cv2.imshow('MaskRCNN Object Detection/Instance Segmentation', image)\n",
    "    if cv2.waitKey(1) & 0xFF == ord('q'):\n",
    "        break\n",
    "cap.release()\n",
    "cv2.destroyAllWindows()"
   ]
  },
  {
   "cell_type": "code",
   "execution_count": 7,
   "metadata": {},
   "outputs": [],
   "source": [
    "# Break video down into frames\n",
    "\n",
    "cap = cv2.VideoCapture(video_path)\n",
    "i = 0\n",
    "while cap.isOpened():\n",
    "    ret, image = cap.read()\n",
    "    if ret == False:\n",
    "        break\n",
    "    cv2.imwrite(os.path.join(frames_dir, vid_name + str(i) + \".jpg\"), image)\n",
    "    i += 1\n",
    "cap.release()\n",
    "cv2.destroyAllWindows()"
   ]
  },
  {
   "cell_type": "code",
   "execution_count": 8,
   "metadata": {},
   "outputs": [],
   "source": [
    "# Create collection for frame names in frames_dir\n",
    "\n",
    "def get_frame_list(frames_dir):\n",
    "    files = os.listdir(frames_dir) \n",
    "    s = []\n",
    "    for file in files: \n",
    "        str_name = file[:26]\n",
    "        s.append(str_name) \n",
    "    return s\n",
    "\n",
    "frames_list = get_frame_list(frames_dir)"
   ]
  },
  {
   "cell_type": "code",
   "execution_count": 15,
   "metadata": {},
   "outputs": [
    {
     "name": "stdout",
     "output_type": "stream",
     "text": [
      "Processing 1 images\n"
     ]
    },
    {
     "ename": "AttributeError",
     "evalue": "'str' object has no attribute 'shape'",
     "output_type": "error",
     "traceback": [
      "\u001b[0;31m---------------------------------------------------------------------------\u001b[0m",
      "\u001b[0;31mAttributeError\u001b[0m                            Traceback (most recent call last)",
      "\u001b[1;32m/home/sam/Documents/GitHub/honoursProject/PedestrianDetectionSGall/notebooks/pedestrian_tracking_across_frames.ipynb Cell 11'\u001b[0m in \u001b[0;36m<cell line: 3>\u001b[0;34m()\u001b[0m\n\u001b[1;32m      <a href='vscode-notebook-cell:/home/sam/Documents/GitHub/honoursProject/PedestrianDetectionSGall/notebooks/pedestrian_tracking_across_frames.ipynb#ch0000015?line=3'>4</a>\u001b[0m processed_frames \u001b[39m=\u001b[39m []\n\u001b[1;32m      <a href='vscode-notebook-cell:/home/sam/Documents/GitHub/honoursProject/PedestrianDetectionSGall/notebooks/pedestrian_tracking_across_frames.ipynb#ch0000015?line=4'>5</a>\u001b[0m frame_location \u001b[39m=\u001b[39m frames_dir \u001b[39m+\u001b[39m frame\n\u001b[0;32m----> <a href='vscode-notebook-cell:/home/sam/Documents/GitHub/honoursProject/PedestrianDetectionSGall/notebooks/pedestrian_tracking_across_frames.ipynb#ch0000015?line=5'>6</a>\u001b[0m results \u001b[39m=\u001b[39m model\u001b[39m.\u001b[39;49mdetect([frame], verbose\u001b[39m=\u001b[39;49m\u001b[39m1\u001b[39;49m)\n\u001b[1;32m      <a href='vscode-notebook-cell:/home/sam/Documents/GitHub/honoursProject/PedestrianDetectionSGall/notebooks/pedestrian_tracking_across_frames.ipynb#ch0000015?line=6'>7</a>\u001b[0m r \u001b[39m=\u001b[39m results[\u001b[39m0\u001b[39m]\n\u001b[1;32m      <a href='vscode-notebook-cell:/home/sam/Documents/GitHub/honoursProject/PedestrianDetectionSGall/notebooks/pedestrian_tracking_across_frames.ipynb#ch0000015?line=7'>8</a>\u001b[0m frame \u001b[39m=\u001b[39m di\u001b[39m.\u001b[39mdisplay_instances(frame, r[\u001b[39m'\u001b[39m\u001b[39mrois\u001b[39m\u001b[39m'\u001b[39m], r[\u001b[39m'\u001b[39m\u001b[39mmasks\u001b[39m\u001b[39m'\u001b[39m], r[\u001b[39m'\u001b[39m\u001b[39mclass_ids\u001b[39m\u001b[39m'\u001b[39m], class_names, r[\u001b[39m'\u001b[39m\u001b[39mscores\u001b[39m\u001b[39m'\u001b[39m])\n",
      "File \u001b[0;32m~/Documents/GitHub/honoursProject/PedestrianDetectionSGall/mrcnn/model.py:2504\u001b[0m, in \u001b[0;36mMaskRCNN.detect\u001b[0;34m(self, images, verbose)\u001b[0m\n\u001b[1;32m   <a href='file:///home/sam/Documents/GitHub/honoursProject/PedestrianDetectionSGall/mrcnn/model.py?line=2501'>2502</a>\u001b[0m     log(\u001b[39m\"\u001b[39m\u001b[39mProcessing \u001b[39m\u001b[39m{}\u001b[39;00m\u001b[39m images\u001b[39m\u001b[39m\"\u001b[39m\u001b[39m.\u001b[39mformat(\u001b[39mlen\u001b[39m(images)))\n\u001b[1;32m   <a href='file:///home/sam/Documents/GitHub/honoursProject/PedestrianDetectionSGall/mrcnn/model.py?line=2502'>2503</a>\u001b[0m     \u001b[39mfor\u001b[39;00m image \u001b[39min\u001b[39;00m images:\n\u001b[0;32m-> <a href='file:///home/sam/Documents/GitHub/honoursProject/PedestrianDetectionSGall/mrcnn/model.py?line=2503'>2504</a>\u001b[0m         log(\u001b[39m\"\u001b[39;49m\u001b[39mimage\u001b[39;49m\u001b[39m\"\u001b[39;49m, image)\n\u001b[1;32m   <a href='file:///home/sam/Documents/GitHub/honoursProject/PedestrianDetectionSGall/mrcnn/model.py?line=2505'>2506</a>\u001b[0m \u001b[39m# Mold inputs to format expected by the neural network\u001b[39;00m\n\u001b[1;32m   <a href='file:///home/sam/Documents/GitHub/honoursProject/PedestrianDetectionSGall/mrcnn/model.py?line=2506'>2507</a>\u001b[0m molded_images, image_metas, windows \u001b[39m=\u001b[39m \u001b[39mself\u001b[39m\u001b[39m.\u001b[39mmold_inputs(images)\n",
      "File \u001b[0;32m~/Documents/GitHub/honoursProject/PedestrianDetectionSGall/mrcnn/model.py:44\u001b[0m, in \u001b[0;36mlog\u001b[0;34m(text, array)\u001b[0m\n\u001b[1;32m     <a href='file:///home/sam/Documents/GitHub/honoursProject/PedestrianDetectionSGall/mrcnn/model.py?line=41'>42</a>\u001b[0m \u001b[39mif\u001b[39;00m array \u001b[39mis\u001b[39;00m \u001b[39mnot\u001b[39;00m \u001b[39mNone\u001b[39;00m:\n\u001b[1;32m     <a href='file:///home/sam/Documents/GitHub/honoursProject/PedestrianDetectionSGall/mrcnn/model.py?line=42'>43</a>\u001b[0m     text \u001b[39m=\u001b[39m text\u001b[39m.\u001b[39mljust(\u001b[39m25\u001b[39m)\n\u001b[0;32m---> <a href='file:///home/sam/Documents/GitHub/honoursProject/PedestrianDetectionSGall/mrcnn/model.py?line=43'>44</a>\u001b[0m     text \u001b[39m+\u001b[39m\u001b[39m=\u001b[39m (\u001b[39m\"\u001b[39m\u001b[39mshape: \u001b[39m\u001b[39m{:20}\u001b[39;00m\u001b[39m  \u001b[39m\u001b[39m\"\u001b[39m\u001b[39m.\u001b[39mformat(\u001b[39mstr\u001b[39m(array\u001b[39m.\u001b[39;49mshape)))\n\u001b[1;32m     <a href='file:///home/sam/Documents/GitHub/honoursProject/PedestrianDetectionSGall/mrcnn/model.py?line=44'>45</a>\u001b[0m     \u001b[39mif\u001b[39;00m array\u001b[39m.\u001b[39msize:\n\u001b[1;32m     <a href='file:///home/sam/Documents/GitHub/honoursProject/PedestrianDetectionSGall/mrcnn/model.py?line=45'>46</a>\u001b[0m         text \u001b[39m+\u001b[39m\u001b[39m=\u001b[39m (\u001b[39m\"\u001b[39m\u001b[39mmin: \u001b[39m\u001b[39m{:10.5f}\u001b[39;00m\u001b[39m  max: \u001b[39m\u001b[39m{:10.5f}\u001b[39;00m\u001b[39m\"\u001b[39m\u001b[39m.\u001b[39mformat(array\u001b[39m.\u001b[39mmin(),array\u001b[39m.\u001b[39mmax()))\n",
      "\u001b[0;31mAttributeError\u001b[0m: 'str' object has no attribute 'shape'"
     ]
    }
   ],
   "source": [
    "# Read first frame and locate pedestrians\n",
    "\n",
    "for frame in frames_list:\n",
    "    processed_frames = []\n",
    "    frame_location = frames_dir + frame\n",
    "    results = model.detect([frame], verbose=1)\n",
    "    r = results[0]\n",
    "    frame = di.display_instances(frame, r['rois'], r['masks'], r['class_ids'], class_names, r['scores'])\n",
    "    cv2.imshow('MaskRCNN Object Detection/Instance Segmentation', frame)\n",
    "    if cv2.waitKey(1) & 0xFF == ord('q'):\n",
    "        break\n",
    "cap.release()\n",
    "cv2.destroyAllWindows()\n",
    "\n",
    "\n"
   ]
  },
  {
   "cell_type": "code",
   "execution_count": 14,
   "metadata": {},
   "outputs": [
    {
     "name": "stdout",
     "output_type": "stream",
     "text": [
      "Processing 1 images\n"
     ]
    },
    {
     "ename": "AttributeError",
     "evalue": "'list' object has no attribute 'shape'",
     "output_type": "error",
     "traceback": [
      "\u001b[0;31m---------------------------------------------------------------------------\u001b[0m",
      "\u001b[0;31mAttributeError\u001b[0m                            Traceback (most recent call last)",
      "\u001b[1;32m/home/sam/Documents/GitHub/honoursProject/PedestrianDetectionSGall/notebooks/pedestrian_tracking_across_frames.ipynb Cell 12'\u001b[0m in \u001b[0;36m<cell line: 1>\u001b[0;34m()\u001b[0m\n\u001b[0;32m----> <a href='vscode-notebook-cell:/home/sam/Documents/GitHub/honoursProject/PedestrianDetectionSGall/notebooks/pedestrian_tracking_across_frames.ipynb#ch0000013?line=0'>1</a>\u001b[0m results \u001b[39m=\u001b[39m model\u001b[39m.\u001b[39;49mdetect([frames_list], verbose\u001b[39m=\u001b[39;49m\u001b[39m1\u001b[39;49m)\n\u001b[1;32m      <a href='vscode-notebook-cell:/home/sam/Documents/GitHub/honoursProject/PedestrianDetectionSGall/notebooks/pedestrian_tracking_across_frames.ipynb#ch0000013?line=1'>2</a>\u001b[0m r \u001b[39m=\u001b[39m results[\u001b[39m0\u001b[39m]\n\u001b[1;32m      <a href='vscode-notebook-cell:/home/sam/Documents/GitHub/honoursProject/PedestrianDetectionSGall/notebooks/pedestrian_tracking_across_frames.ipynb#ch0000013?line=2'>3</a>\u001b[0m frame \u001b[39m=\u001b[39m di\u001b[39m.\u001b[39mdisplay_instances(frames_list, r[\u001b[39m'\u001b[39m\u001b[39mrois\u001b[39m\u001b[39m'\u001b[39m], r[\u001b[39m'\u001b[39m\u001b[39mmasks\u001b[39m\u001b[39m'\u001b[39m], r[\u001b[39m'\u001b[39m\u001b[39mclass_ids\u001b[39m\u001b[39m'\u001b[39m], class_names, r[\u001b[39m'\u001b[39m\u001b[39mscores\u001b[39m\u001b[39m'\u001b[39m])\n",
      "File \u001b[0;32m~/Documents/GitHub/honoursProject/PedestrianDetectionSGall/mrcnn/model.py:2504\u001b[0m, in \u001b[0;36mMaskRCNN.detect\u001b[0;34m(self, images, verbose)\u001b[0m\n\u001b[1;32m   <a href='file:///home/sam/Documents/GitHub/honoursProject/PedestrianDetectionSGall/mrcnn/model.py?line=2501'>2502</a>\u001b[0m     log(\u001b[39m\"\u001b[39m\u001b[39mProcessing \u001b[39m\u001b[39m{}\u001b[39;00m\u001b[39m images\u001b[39m\u001b[39m\"\u001b[39m\u001b[39m.\u001b[39mformat(\u001b[39mlen\u001b[39m(images)))\n\u001b[1;32m   <a href='file:///home/sam/Documents/GitHub/honoursProject/PedestrianDetectionSGall/mrcnn/model.py?line=2502'>2503</a>\u001b[0m     \u001b[39mfor\u001b[39;00m image \u001b[39min\u001b[39;00m images:\n\u001b[0;32m-> <a href='file:///home/sam/Documents/GitHub/honoursProject/PedestrianDetectionSGall/mrcnn/model.py?line=2503'>2504</a>\u001b[0m         log(\u001b[39m\"\u001b[39;49m\u001b[39mimage\u001b[39;49m\u001b[39m\"\u001b[39;49m, image)\n\u001b[1;32m   <a href='file:///home/sam/Documents/GitHub/honoursProject/PedestrianDetectionSGall/mrcnn/model.py?line=2505'>2506</a>\u001b[0m \u001b[39m# Mold inputs to format expected by the neural network\u001b[39;00m\n\u001b[1;32m   <a href='file:///home/sam/Documents/GitHub/honoursProject/PedestrianDetectionSGall/mrcnn/model.py?line=2506'>2507</a>\u001b[0m molded_images, image_metas, windows \u001b[39m=\u001b[39m \u001b[39mself\u001b[39m\u001b[39m.\u001b[39mmold_inputs(images)\n",
      "File \u001b[0;32m~/Documents/GitHub/honoursProject/PedestrianDetectionSGall/mrcnn/model.py:44\u001b[0m, in \u001b[0;36mlog\u001b[0;34m(text, array)\u001b[0m\n\u001b[1;32m     <a href='file:///home/sam/Documents/GitHub/honoursProject/PedestrianDetectionSGall/mrcnn/model.py?line=41'>42</a>\u001b[0m \u001b[39mif\u001b[39;00m array \u001b[39mis\u001b[39;00m \u001b[39mnot\u001b[39;00m \u001b[39mNone\u001b[39;00m:\n\u001b[1;32m     <a href='file:///home/sam/Documents/GitHub/honoursProject/PedestrianDetectionSGall/mrcnn/model.py?line=42'>43</a>\u001b[0m     text \u001b[39m=\u001b[39m text\u001b[39m.\u001b[39mljust(\u001b[39m25\u001b[39m)\n\u001b[0;32m---> <a href='file:///home/sam/Documents/GitHub/honoursProject/PedestrianDetectionSGall/mrcnn/model.py?line=43'>44</a>\u001b[0m     text \u001b[39m+\u001b[39m\u001b[39m=\u001b[39m (\u001b[39m\"\u001b[39m\u001b[39mshape: \u001b[39m\u001b[39m{:20}\u001b[39;00m\u001b[39m  \u001b[39m\u001b[39m\"\u001b[39m\u001b[39m.\u001b[39mformat(\u001b[39mstr\u001b[39m(array\u001b[39m.\u001b[39;49mshape)))\n\u001b[1;32m     <a href='file:///home/sam/Documents/GitHub/honoursProject/PedestrianDetectionSGall/mrcnn/model.py?line=44'>45</a>\u001b[0m     \u001b[39mif\u001b[39;00m array\u001b[39m.\u001b[39msize:\n\u001b[1;32m     <a href='file:///home/sam/Documents/GitHub/honoursProject/PedestrianDetectionSGall/mrcnn/model.py?line=45'>46</a>\u001b[0m         text \u001b[39m+\u001b[39m\u001b[39m=\u001b[39m (\u001b[39m\"\u001b[39m\u001b[39mmin: \u001b[39m\u001b[39m{:10.5f}\u001b[39;00m\u001b[39m  max: \u001b[39m\u001b[39m{:10.5f}\u001b[39;00m\u001b[39m\"\u001b[39m\u001b[39m.\u001b[39mformat(array\u001b[39m.\u001b[39mmin(),array\u001b[39m.\u001b[39mmax()))\n",
      "\u001b[0;31mAttributeError\u001b[0m: 'list' object has no attribute 'shape'"
     ]
    }
   ],
   "source": [
    "results = model.detect([frames_list], verbose=1)\n",
    "r = results[0]\n",
    "frame = di.display_instances(frames_list, r['rois'], r['masks'], r['class_ids'], class_names, r['scores'])\n",
    "cv2.imshow('MaskRCNN Object Detection/Instance Segmentation', frame)\n"
   ]
  }
 ],
 "metadata": {
  "interpreter": {
   "hash": "cfdfb253d56b3adda966a24c23cbff432cd99a2a96e5b72ef76cc71805036f62"
  },
  "kernelspec": {
   "display_name": "Python 3.9.7",
   "language": "python",
   "name": "python3"
  },
  "language_info": {
   "codemirror_mode": {
    "name": "ipython",
    "version": 3
   },
   "file_extension": ".py",
   "mimetype": "text/x-python",
   "name": "python",
   "nbconvert_exporter": "python",
   "pygments_lexer": "ipython3",
   "version": "3.9.7"
  },
  "orig_nbformat": 4
 },
 "nbformat": 4,
 "nbformat_minor": 2
}
