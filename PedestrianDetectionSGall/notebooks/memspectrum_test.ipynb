{
 "cells": [
  {
   "cell_type": "code",
   "execution_count": null,
   "metadata": {},
   "outputs": [],
   "source": [
    "from memspectrum import MESA\n",
    "import numpy as np\n",
    "import matplotlib.pyplot as plt\n",
    "\n",
    "N, dt = 10, 1  # Number of samples and sampling interval\n",
    "no_pred = 2\n",
    "time = np.arange(0, N) * dt\n",
    "data = [24, 27, 31, 36, 42, 49, 57, 66, 76, 87]\n",
    "plt.plot(time[:-1], data[:-1], color = 'k')\n",
    "plt.show()\n",
    "\n"
   ]
  },
  {
   "cell_type": "code",
   "execution_count": null,
   "metadata": {},
   "outputs": [],
   "source": [
    "M = MESA()\n",
    "M.solve(data[:-no_pred])\n",
    "forecast = M.forecast(data[:-no_pred], length = no_pred, number_of_simulations = no_pred*10, \n",
    "include_data = False)\n",
    "median = np.median(forecast, axis = 0) # Ensemble median\n",
    "\n",
    "plt.plot(time, data, color = 'k')\n",
    "plt.plot(time[N-no_pred:], data[N-no_pred:], color = 'g', linestyle = '-.', label = 'Observed data')\n",
    "plt.plot(time[N-no_pred:], median, color = 'r', label = 'median estimate')\n",
    "plt.show()\n",
    "\n"
   ]
  },
  {
   "cell_type": "code",
   "execution_count": null,
   "metadata": {},
   "outputs": [],
   "source": [
    "# Sum Squared Error just as a quick evaluation\n",
    "real_values = data[N-no_pred:]\n",
    "print(\"Real Values = \", real_values)\n",
    "print(\"Median Values = \", median)\n",
    "SSE = np.sum((real_values - median)**2)\n",
    "print(\"SSE = \", SSE)"
   ]
  }
 ],
 "metadata": {
  "interpreter": {
   "hash": "cfdfb253d56b3adda966a24c23cbff432cd99a2a96e5b72ef76cc71805036f62"
  },
  "kernelspec": {
   "display_name": "Python 3.9.7",
   "language": "python",
   "name": "python3"
  },
  "language_info": {
   "codemirror_mode": {
    "name": "ipython",
    "version": 3
   },
   "file_extension": ".py",
   "mimetype": "text/x-python",
   "name": "python",
   "nbconvert_exporter": "python",
   "pygments_lexer": "ipython3",
   "version": "3.9.7"
  },
  "orig_nbformat": 4
 },
 "nbformat": 4,
 "nbformat_minor": 2
}
